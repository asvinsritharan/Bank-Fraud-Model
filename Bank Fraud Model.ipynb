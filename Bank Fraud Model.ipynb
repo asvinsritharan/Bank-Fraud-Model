{
 "cells": [
  {
   "cell_type": "markdown",
   "metadata": {},
   "source": [
    "# Introduction\n",
    "\n",
    "A bank experiences fraud often on a regular basis. It is important that the bank is able to recognize fraud when it occurs. This prevents headaches for the customer as it avoids them unknowingly paying for the fraudulent transaction. Automatic fraud detection minimizes downtime for the customer as the bank handles the fraud and issues a new card to the customer automatically instead of having the customer find a fraudulent transaction, contact the bank, dispute the charge and request a new card. The idea of automatic fraud detection also builds a stronger bond between the customer and the bank, thus both the bank and the customer benefit from the detection of fraud.\n",
    "\n",
    "### Problem\n",
    "\n",
    "The merchant, area, amount of the transaction are all possible factors which can help detect fraud. This project seeks to determine the factors which determine whether or not a transaction is fraudulent. \n",
    "\n",
    "### Interest\n",
    "\n",
    "The interested party in this problem would be a bank. Fraud detection can help a bank block transactions which appear fraudulent thus alleviating much of the downtime a customer faces dealing with a false transaction."
   ]
  },
  {
   "cell_type": "markdown",
   "metadata": {},
   "source": [
    "# Data\n",
    "\n",
    "Based on our description of the problem it is important that we get merchant information, customer name, category of the transaction, area in which the transaction took place and the amount of the transaction. \n",
    "\n",
    "In order to obtain this information, a [Kaggle Dataset](https://www.kaggle.com/kartik2112/fraud-detection?select=fraudTrain.csv) will be used to train and test the dataset.\n",
    "\n",
    "The dataset contains columns: transaction date and times, credit card numbers, merchant, category, amount, first name, last name, gender, street name, city name, state, zipcode, latitude of customer, longitude of customer, city population, job of customer, date of birth, transaction number, unix time, merchant longitude and latitude, and fraud label. We must first drop columns which are redundant or appear in other forms. An example of such columns are the transaction date and times and unix time. Unix time is equivalent to transaction date and time so we only need to keep one. \n",
    "\n",
    "After the relevant variables are gathered, we then plot the variables against the fraud labels to determine if they have any influence on whether or not a transaction is fraud. Dropping the irrelevant variables here, give us a more rigid set of variables which we can then use for training our model.\n",
    "\n",
    "The data then needs its categorical variables factorized so they can be used in models. Once it's all done, the data will be normalized so variables don't have more influence over others in the model. Finally, the Decision Trees, KNN, SVM and Logistic Regression models will be created using the data and the test data will be made using 10% of the dataset. The model with the highest recall score will then be the model selected as our fraud detection model."
   ]
  },
  {
   "cell_type": "markdown",
   "metadata": {},
   "source": [
    "# Methodology\n",
    "\n",
    "Our goal of this project is to successfully predict the transactions which are fraudulent. To do this, we must have as many cases of fraud as possible to train our data. Our dataset has been pre split with training and testing data, however we will merge the data into one dataset and split it afterwards so we can ensure a random split for training and testing data. We will then perform data analysis on our dataset to determine the importance of having certain variables in our dataset. \n",
    "\n",
    "We will plot categorical variables against fraud categorical variable by using bar charts to compare shapes to see if there are differences in distribution. Side by side boxplots will be used to plot quantitative variables against the fraud categorical variable to see differences in distribution of data. Variables which are variations of other variables, have no variation in fraudulent transactions or are insignification will be excluded from the model. \n",
    "\n",
    "After the unnecessary variables are dropped from our dataset, we factorize the categorical variables to give categories a numerical representation so that they can be modelled on. Normalization will take place so variables like zip codes, which have large number values, don't have higher impact on our model than other variables like category of purchase.\n",
    "\n",
    "Finally, since this is a classification problem, we will build a model using decision trees, KNN, SVM and logistic regression for fraud detection. Each model will then be tested by calculating it's precision, recall and f1-scores. It is important to note that since this is a fraud detection model, we want to be able to correctly label as many of the fraud cases as possible. This means we will be focusing on finding a model with the highest recall score that we can obtain as a high recall score indicates we are able to correctly predict a high amount of actual fraud transactions."
   ]
  },
  {
   "cell_type": "markdown",
   "metadata": {},
   "source": [
    "# Analysis\n",
    "\n",
    "We must combine the data and perform analysis on the relevant variables in order to determine which variables are crucial to our model."
   ]
  },
  {
   "cell_type": "code",
   "execution_count": 1,
   "metadata": {},
   "outputs": [],
   "source": [
    "import pandas as pd\n",
    "import numpy as np"
   ]
  },
  {
   "cell_type": "markdown",
   "metadata": {},
   "source": [
    "We have been given train and test datasets however instead of using split tables, lets split the data ourselves later. For now we will combine both train and test datasets. Now we look at the data types in the dataset "
   ]
  },
  {
   "cell_type": "code",
   "execution_count": 2,
   "metadata": {},
   "outputs": [
    {
     "data": {
      "text/plain": [
       "Unnamed: 0                 int64\n",
       "trans_date_trans_time     object\n",
       "cc_num                     int64\n",
       "merchant                  object\n",
       "category                  object\n",
       "amt                      float64\n",
       "first                     object\n",
       "last                      object\n",
       "gender                    object\n",
       "street                    object\n",
       "city                      object\n",
       "state                     object\n",
       "zip                        int64\n",
       "lat                      float64\n",
       "long                     float64\n",
       "city_pop                   int64\n",
       "job                       object\n",
       "dob                       object\n",
       "trans_num                 object\n",
       "unix_time                  int64\n",
       "merch_lat                float64\n",
       "merch_long               float64\n",
       "is_fraud                   int64\n",
       "dtype: object"
      ]
     },
     "execution_count": 2,
     "metadata": {},
     "output_type": "execute_result"
    }
   ],
   "source": [
    "df = pd.read_csv(\"fraudTrain.csv\")\n",
    "test_df = pd.read_csv(\"fraudTest.csv\")\n",
    "df = pd.concat([df, test_df])\n",
    "df.head()\n",
    "df.dtypes"
   ]
  },
  {
   "cell_type": "code",
   "execution_count": 3,
   "metadata": {},
   "outputs": [
    {
     "data": {
      "text/html": [
       "<div>\n",
       "<style scoped>\n",
       "    .dataframe tbody tr th:only-of-type {\n",
       "        vertical-align: middle;\n",
       "    }\n",
       "\n",
       "    .dataframe tbody tr th {\n",
       "        vertical-align: top;\n",
       "    }\n",
       "\n",
       "    .dataframe thead th {\n",
       "        text-align: right;\n",
       "    }\n",
       "</style>\n",
       "<table border=\"1\" class=\"dataframe\">\n",
       "  <thead>\n",
       "    <tr style=\"text-align: right;\">\n",
       "      <th></th>\n",
       "      <th>Unnamed: 0</th>\n",
       "      <th>trans_date_trans_time</th>\n",
       "      <th>cc_num</th>\n",
       "      <th>merchant</th>\n",
       "      <th>category</th>\n",
       "      <th>amt</th>\n",
       "      <th>first</th>\n",
       "      <th>last</th>\n",
       "      <th>gender</th>\n",
       "      <th>street</th>\n",
       "      <th>...</th>\n",
       "      <th>lat</th>\n",
       "      <th>long</th>\n",
       "      <th>city_pop</th>\n",
       "      <th>job</th>\n",
       "      <th>dob</th>\n",
       "      <th>trans_num</th>\n",
       "      <th>unix_time</th>\n",
       "      <th>merch_lat</th>\n",
       "      <th>merch_long</th>\n",
       "      <th>is_fraud</th>\n",
       "    </tr>\n",
       "  </thead>\n",
       "  <tbody>\n",
       "    <tr>\n",
       "      <th>0</th>\n",
       "      <td>0</td>\n",
       "      <td>2019-01-01 00:00:18</td>\n",
       "      <td>2703186189652095</td>\n",
       "      <td>fraud_Rippin, Kub and Mann</td>\n",
       "      <td>misc_net</td>\n",
       "      <td>4.97</td>\n",
       "      <td>Jennifer</td>\n",
       "      <td>Banks</td>\n",
       "      <td>F</td>\n",
       "      <td>561 Perry Cove</td>\n",
       "      <td>...</td>\n",
       "      <td>36.0788</td>\n",
       "      <td>-81.1781</td>\n",
       "      <td>3495</td>\n",
       "      <td>Psychologist, counselling</td>\n",
       "      <td>1988-03-09</td>\n",
       "      <td>0b242abb623afc578575680df30655b9</td>\n",
       "      <td>1325376018</td>\n",
       "      <td>36.011293</td>\n",
       "      <td>-82.048315</td>\n",
       "      <td>0</td>\n",
       "    </tr>\n",
       "    <tr>\n",
       "      <th>1</th>\n",
       "      <td>1</td>\n",
       "      <td>2019-01-01 00:00:44</td>\n",
       "      <td>630423337322</td>\n",
       "      <td>fraud_Heller, Gutmann and Zieme</td>\n",
       "      <td>grocery_pos</td>\n",
       "      <td>107.23</td>\n",
       "      <td>Stephanie</td>\n",
       "      <td>Gill</td>\n",
       "      <td>F</td>\n",
       "      <td>43039 Riley Greens Suite 393</td>\n",
       "      <td>...</td>\n",
       "      <td>48.8878</td>\n",
       "      <td>-118.2105</td>\n",
       "      <td>149</td>\n",
       "      <td>Special educational needs teacher</td>\n",
       "      <td>1978-06-21</td>\n",
       "      <td>1f76529f8574734946361c461b024d99</td>\n",
       "      <td>1325376044</td>\n",
       "      <td>49.159047</td>\n",
       "      <td>-118.186462</td>\n",
       "      <td>0</td>\n",
       "    </tr>\n",
       "    <tr>\n",
       "      <th>2</th>\n",
       "      <td>2</td>\n",
       "      <td>2019-01-01 00:00:51</td>\n",
       "      <td>38859492057661</td>\n",
       "      <td>fraud_Lind-Buckridge</td>\n",
       "      <td>entertainment</td>\n",
       "      <td>220.11</td>\n",
       "      <td>Edward</td>\n",
       "      <td>Sanchez</td>\n",
       "      <td>M</td>\n",
       "      <td>594 White Dale Suite 530</td>\n",
       "      <td>...</td>\n",
       "      <td>42.1808</td>\n",
       "      <td>-112.2620</td>\n",
       "      <td>4154</td>\n",
       "      <td>Nature conservation officer</td>\n",
       "      <td>1962-01-19</td>\n",
       "      <td>a1a22d70485983eac12b5b88dad1cf95</td>\n",
       "      <td>1325376051</td>\n",
       "      <td>43.150704</td>\n",
       "      <td>-112.154481</td>\n",
       "      <td>0</td>\n",
       "    </tr>\n",
       "    <tr>\n",
       "      <th>3</th>\n",
       "      <td>3</td>\n",
       "      <td>2019-01-01 00:01:16</td>\n",
       "      <td>3534093764340240</td>\n",
       "      <td>fraud_Kutch, Hermiston and Farrell</td>\n",
       "      <td>gas_transport</td>\n",
       "      <td>45.00</td>\n",
       "      <td>Jeremy</td>\n",
       "      <td>White</td>\n",
       "      <td>M</td>\n",
       "      <td>9443 Cynthia Court Apt. 038</td>\n",
       "      <td>...</td>\n",
       "      <td>46.2306</td>\n",
       "      <td>-112.1138</td>\n",
       "      <td>1939</td>\n",
       "      <td>Patent attorney</td>\n",
       "      <td>1967-01-12</td>\n",
       "      <td>6b849c168bdad6f867558c3793159a81</td>\n",
       "      <td>1325376076</td>\n",
       "      <td>47.034331</td>\n",
       "      <td>-112.561071</td>\n",
       "      <td>0</td>\n",
       "    </tr>\n",
       "    <tr>\n",
       "      <th>4</th>\n",
       "      <td>4</td>\n",
       "      <td>2019-01-01 00:03:06</td>\n",
       "      <td>375534208663984</td>\n",
       "      <td>fraud_Keeling-Crist</td>\n",
       "      <td>misc_pos</td>\n",
       "      <td>41.96</td>\n",
       "      <td>Tyler</td>\n",
       "      <td>Garcia</td>\n",
       "      <td>M</td>\n",
       "      <td>408 Bradley Rest</td>\n",
       "      <td>...</td>\n",
       "      <td>38.4207</td>\n",
       "      <td>-79.4629</td>\n",
       "      <td>99</td>\n",
       "      <td>Dance movement psychotherapist</td>\n",
       "      <td>1986-03-28</td>\n",
       "      <td>a41d7549acf90789359a9aa5346dcb46</td>\n",
       "      <td>1325376186</td>\n",
       "      <td>38.674999</td>\n",
       "      <td>-78.632459</td>\n",
       "      <td>0</td>\n",
       "    </tr>\n",
       "  </tbody>\n",
       "</table>\n",
       "<p>5 rows × 23 columns</p>\n",
       "</div>"
      ],
      "text/plain": [
       "   Unnamed: 0 trans_date_trans_time            cc_num  \\\n",
       "0           0   2019-01-01 00:00:18  2703186189652095   \n",
       "1           1   2019-01-01 00:00:44      630423337322   \n",
       "2           2   2019-01-01 00:00:51    38859492057661   \n",
       "3           3   2019-01-01 00:01:16  3534093764340240   \n",
       "4           4   2019-01-01 00:03:06   375534208663984   \n",
       "\n",
       "                             merchant       category     amt      first  \\\n",
       "0          fraud_Rippin, Kub and Mann       misc_net    4.97   Jennifer   \n",
       "1     fraud_Heller, Gutmann and Zieme    grocery_pos  107.23  Stephanie   \n",
       "2                fraud_Lind-Buckridge  entertainment  220.11     Edward   \n",
       "3  fraud_Kutch, Hermiston and Farrell  gas_transport   45.00     Jeremy   \n",
       "4                 fraud_Keeling-Crist       misc_pos   41.96      Tyler   \n",
       "\n",
       "      last gender                        street  ...      lat      long  \\\n",
       "0    Banks      F                561 Perry Cove  ...  36.0788  -81.1781   \n",
       "1     Gill      F  43039 Riley Greens Suite 393  ...  48.8878 -118.2105   \n",
       "2  Sanchez      M      594 White Dale Suite 530  ...  42.1808 -112.2620   \n",
       "3    White      M   9443 Cynthia Court Apt. 038  ...  46.2306 -112.1138   \n",
       "4   Garcia      M              408 Bradley Rest  ...  38.4207  -79.4629   \n",
       "\n",
       "   city_pop                                job         dob  \\\n",
       "0      3495          Psychologist, counselling  1988-03-09   \n",
       "1       149  Special educational needs teacher  1978-06-21   \n",
       "2      4154        Nature conservation officer  1962-01-19   \n",
       "3      1939                    Patent attorney  1967-01-12   \n",
       "4        99     Dance movement psychotherapist  1986-03-28   \n",
       "\n",
       "                          trans_num   unix_time  merch_lat  merch_long  \\\n",
       "0  0b242abb623afc578575680df30655b9  1325376018  36.011293  -82.048315   \n",
       "1  1f76529f8574734946361c461b024d99  1325376044  49.159047 -118.186462   \n",
       "2  a1a22d70485983eac12b5b88dad1cf95  1325376051  43.150704 -112.154481   \n",
       "3  6b849c168bdad6f867558c3793159a81  1325376076  47.034331 -112.561071   \n",
       "4  a41d7549acf90789359a9aa5346dcb46  1325376186  38.674999  -78.632459   \n",
       "\n",
       "   is_fraud  \n",
       "0         0  \n",
       "1         0  \n",
       "2         0  \n",
       "3         0  \n",
       "4         0  \n",
       "\n",
       "[5 rows x 23 columns]"
      ]
     },
     "execution_count": 3,
     "metadata": {},
     "output_type": "execute_result"
    }
   ],
   "source": [
    "df.head()"
   ]
  },
  {
   "cell_type": "markdown",
   "metadata": {},
   "source": [
    "It is likely that people have multiple credit cards who can be prone to being targets of fraudulent transactions due their usage patterns in their credit cards, so we will merge the first and last name into a name column"
   ]
  },
  {
   "cell_type": "code",
   "execution_count": 4,
   "metadata": {},
   "outputs": [],
   "source": [
    "df['name'] = df['first'] + df['last']"
   ]
  },
  {
   "cell_type": "markdown",
   "metadata": {},
   "source": [
    "We will drop columns which are seemingly irrelevant to the output of the model"
   ]
  },
  {
   "cell_type": "code",
   "execution_count": 5,
   "metadata": {},
   "outputs": [],
   "source": [
    "drop_list = ['Unnamed: 0', 'first', 'last', 'street', 'dob', 'trans_num', 'trans_date_trans_time']\n",
    "df = df.drop(drop_list, axis=1)"
   ]
  },
  {
   "cell_type": "markdown",
   "metadata": {},
   "source": [
    "We can now get the counts of missing values in the dataset to determine which values we need to replace"
   ]
  },
  {
   "cell_type": "code",
   "execution_count": 6,
   "metadata": {},
   "outputs": [
    {
     "name": "stdout",
     "output_type": "stream",
     "text": [
      "cc_num\n",
      "False    1852394\n",
      "Name: cc_num, dtype: int64\n",
      "\n",
      "merchant\n",
      "False    1852394\n",
      "Name: merchant, dtype: int64\n",
      "\n",
      "category\n",
      "False    1852394\n",
      "Name: category, dtype: int64\n",
      "\n",
      "amt\n",
      "False    1852394\n",
      "Name: amt, dtype: int64\n",
      "\n",
      "gender\n",
      "False    1852394\n",
      "Name: gender, dtype: int64\n",
      "\n",
      "city\n",
      "False    1852394\n",
      "Name: city, dtype: int64\n",
      "\n",
      "state\n",
      "False    1852394\n",
      "Name: state, dtype: int64\n",
      "\n",
      "zip\n",
      "False    1852394\n",
      "Name: zip, dtype: int64\n",
      "\n",
      "lat\n",
      "False    1852394\n",
      "Name: lat, dtype: int64\n",
      "\n",
      "long\n",
      "False    1852394\n",
      "Name: long, dtype: int64\n",
      "\n",
      "city_pop\n",
      "False    1852394\n",
      "Name: city_pop, dtype: int64\n",
      "\n",
      "job\n",
      "False    1852394\n",
      "Name: job, dtype: int64\n",
      "\n",
      "unix_time\n",
      "False    1852394\n",
      "Name: unix_time, dtype: int64\n",
      "\n",
      "merch_lat\n",
      "False    1852394\n",
      "Name: merch_lat, dtype: int64\n",
      "\n",
      "merch_long\n",
      "False    1852394\n",
      "Name: merch_long, dtype: int64\n",
      "\n",
      "is_fraud\n",
      "False    1852394\n",
      "Name: is_fraud, dtype: int64\n",
      "\n",
      "name\n",
      "False    1852394\n",
      "Name: name, dtype: int64\n",
      "\n"
     ]
    }
   ],
   "source": [
    "missing_data = df.isnull()\n",
    "for col in missing_data.columns.values.tolist():\n",
    "    print(col)\n",
    "    print(missing_data[col].value_counts())\n",
    "    print(\"\")"
   ]
  },
  {
   "cell_type": "markdown",
   "metadata": {},
   "source": [
    "No data is missing in the data set so we are good to go."
   ]
  },
  {
   "cell_type": "markdown",
   "metadata": {},
   "source": [
    "Now we look at the data types again in the dataset to determine how to plot the variables. This is important because we can see the impact each variable has on fraudulent and non fraudulent transactions"
   ]
  },
  {
   "cell_type": "code",
   "execution_count": 7,
   "metadata": {},
   "outputs": [
    {
     "data": {
      "text/plain": [
       "cc_num          int64\n",
       "merchant       object\n",
       "category       object\n",
       "amt           float64\n",
       "gender         object\n",
       "city           object\n",
       "state          object\n",
       "zip             int64\n",
       "lat           float64\n",
       "long          float64\n",
       "city_pop        int64\n",
       "job            object\n",
       "unix_time       int64\n",
       "merch_lat     float64\n",
       "merch_long    float64\n",
       "is_fraud        int64\n",
       "name           object\n",
       "dtype: object"
      ]
     },
     "execution_count": 7,
     "metadata": {},
     "output_type": "execute_result"
    }
   ],
   "source": [
    "df.dtypes"
   ]
  },
  {
   "cell_type": "markdown",
   "metadata": {},
   "source": [
    "We can see that columns: zip, lat, long, merch_lat, merch_long and is_fraud are all int64 or float64 types. These values have no quantitative meaning so we should change them into object types because they represent categorical variables."
   ]
  },
  {
   "cell_type": "code",
   "execution_count": 8,
   "metadata": {},
   "outputs": [],
   "source": [
    "df[['zip', 'lat', 'long', 'merch_lat', 'merch_long', 'is_fraud']] = df[['zip', 'lat', 'long', 'merch_lat', 'merch_long', 'is_fraud']].astype(\"object\")"
   ]
  },
  {
   "cell_type": "markdown",
   "metadata": {},
   "source": [
    "We now double check to make sure the data types are in order"
   ]
  },
  {
   "cell_type": "code",
   "execution_count": 9,
   "metadata": {},
   "outputs": [
    {
     "data": {
      "text/plain": [
       "cc_num          int64\n",
       "merchant       object\n",
       "category       object\n",
       "amt           float64\n",
       "gender         object\n",
       "city           object\n",
       "state          object\n",
       "zip            object\n",
       "lat            object\n",
       "long           object\n",
       "city_pop        int64\n",
       "job            object\n",
       "unix_time       int64\n",
       "merch_lat      object\n",
       "merch_long     object\n",
       "is_fraud       object\n",
       "name           object\n",
       "dtype: object"
      ]
     },
     "execution_count": 9,
     "metadata": {},
     "output_type": "execute_result"
    }
   ],
   "source": [
    "df.dtypes"
   ]
  },
  {
   "cell_type": "markdown",
   "metadata": {},
   "source": [
    "Lets plot the variables to see which variables are different in fraudulent transactions compared to non-fraudulent transactions. We will use side by side boxplots for plotting a categorical variable against a quantitative variable. We will use bar charts for plotting a categorical variable against a categorical variable"
   ]
  },
  {
   "cell_type": "code",
   "execution_count": 10,
   "metadata": {},
   "outputs": [],
   "source": [
    "import matplotlib.pyplot as plt\n",
    "import seaborn as sns\n",
    "\n",
    "%matplotlib inline "
   ]
  },
  {
   "cell_type": "code",
   "execution_count": 11,
   "metadata": {},
   "outputs": [
    {
     "data": {
      "text/plain": [
       "<matplotlib.axes._subplots.AxesSubplot at 0x209cd88f3a0>"
      ]
     },
     "execution_count": 11,
     "metadata": {},
     "output_type": "execute_result"
    },
    {
     "data": {
      "image/png": "[encoded data removed]",
      "text/plain": [
       "<Figure size 432x288 with 1 Axes>"
      ]
     },
     "metadata": {
      "needs_background": "light"
     },
     "output_type": "display_data"
    }
   ],
   "source": [
    "sns.boxplot(x=\"is_fraud\", y=\"cc_num\", data=df)"
   ]
  },
  {
   "cell_type": "markdown",
   "metadata": {},
   "source": [
    "Here we see that the credit card number has the same formation irregardless of fraud identification. However it is possible that credit card numbers who are targetted once before can be targetted again due to the use of the bank customer so we will include it in our model as a categorical variable."
   ]
  },
  {
   "cell_type": "code",
   "execution_count": 12,
   "metadata": {},
   "outputs": [
    {
     "data": {
      "text/plain": [
       "<matplotlib.axes._subplots.AxesSubplot at 0x209d6bb6c10>"
      ]
     },
     "execution_count": 12,
     "metadata": {},
     "output_type": "execute_result"
    },
    {
     "data": {
      "image/png": "[encoded data removed]",
      "text/plain": [
       "<Figure size 432x288 with 1 Axes>"
      ]
     },
     "metadata": {
      "needs_background": "light"
     },
     "output_type": "display_data"
    }
   ],
   "source": [
    "sns.boxplot(x=\"is_fraud\", y=\"amt\", data=df)"
   ]
  },
  {
   "cell_type": "markdown",
   "metadata": {},
   "source": [
    "Here we see that in fraudulent cases, the cases are always values below 2500 dollars, seemingly to not raise suspicion. Non fraudulent transactions have outliers which are alot higher than 2500 dollars, however we do not see this in fraudulent cases, indicating there is a difference in amount of the transaction between fraudulent and non-fraudulent cases."
   ]
  },
  {
   "cell_type": "code",
   "execution_count": 13,
   "metadata": {},
   "outputs": [
    {
     "data": {
      "text/plain": [
       "<matplotlib.axes._subplots.AxesSubplot at 0x209d6da8c40>"
      ]
     },
     "execution_count": 13,
     "metadata": {},
     "output_type": "execute_result"
    },
    {
     "data": {
      "image/png": "[encoded data removed]",
      "text/plain": [
       "<Figure size 432x288 with 1 Axes>"
      ]
     },
     "metadata": {
      "needs_background": "light"
     },
     "output_type": "display_data"
    }
   ],
   "source": [
    "sns.boxplot(x=\"is_fraud\", y=\"unix_time\", data=df)"
   ]
  },
  {
   "cell_type": "markdown",
   "metadata": {},
   "source": [
    "The time period in which fraudulent and non fraudulent transactions take place seems slightly different. The median between the two groups are slightly different and so is the Q1 and Q3 time periods. We will consider this variable in our model"
   ]
  },
  {
   "cell_type": "code",
   "execution_count": 14,
   "metadata": {},
   "outputs": [
    {
     "data": {
      "text/plain": [
       "<matplotlib.axes._subplots.AxesSubplot at 0x209d6e15f40>"
      ]
     },
     "execution_count": 14,
     "metadata": {},
     "output_type": "execute_result"
    },
    {
     "data": {
      "image/png": "[encoded data removed]",
      "text/plain": [
       "<Figure size 432x288 with 1 Axes>"
      ]
     },
     "metadata": {
      "needs_background": "light"
     },
     "output_type": "display_data"
    }
   ],
   "source": [
    "sns.boxplot(x=\"is_fraud\", y=\"city_pop\", data=df)"
   ]
  },
  {
   "cell_type": "markdown",
   "metadata": {},
   "source": [
    "The city population is the same across both fraud and non fraud cases"
   ]
  },
  {
   "cell_type": "markdown",
   "metadata": {},
   "source": [
    "Now we will compare categorical variables against the categorical value: is_fraud. We will plot the graph for fraudulent transactions and non fraudulent transactions and display the counts of the top 5 variables to see if there are differences between groups."
   ]
  },
  {
   "cell_type": "code",
   "execution_count": 15,
   "metadata": {},
   "outputs": [
    {
     "data": {
      "text/html": [
       "<div>\n",
       "<style scoped>\n",
       "    .dataframe tbody tr th:only-of-type {\n",
       "        vertical-align: middle;\n",
       "    }\n",
       "\n",
       "    .dataframe tbody tr th {\n",
       "        vertical-align: top;\n",
       "    }\n",
       "\n",
       "    .dataframe thead th {\n",
       "        text-align: right;\n",
       "    }\n",
       "</style>\n",
       "<table border=\"1\" class=\"dataframe\">\n",
       "  <thead>\n",
       "    <tr style=\"text-align: right;\">\n",
       "      <th></th>\n",
       "      <th>category</th>\n",
       "      <th>count</th>\n",
       "    </tr>\n",
       "  </thead>\n",
       "  <tbody>\n",
       "    <tr>\n",
       "      <th>0</th>\n",
       "      <td>grocery_pos</td>\n",
       "      <td>2228</td>\n",
       "    </tr>\n",
       "    <tr>\n",
       "      <th>1</th>\n",
       "      <td>shopping_net</td>\n",
       "      <td>2219</td>\n",
       "    </tr>\n",
       "    <tr>\n",
       "      <th>2</th>\n",
       "      <td>misc_net</td>\n",
       "      <td>1182</td>\n",
       "    </tr>\n",
       "    <tr>\n",
       "      <th>3</th>\n",
       "      <td>shopping_pos</td>\n",
       "      <td>1056</td>\n",
       "    </tr>\n",
       "    <tr>\n",
       "      <th>4</th>\n",
       "      <td>gas_transport</td>\n",
       "      <td>772</td>\n",
       "    </tr>\n",
       "  </tbody>\n",
       "</table>\n",
       "</div>"
      ],
      "text/plain": [
       "        category  count\n",
       "0    grocery_pos   2228\n",
       "1   shopping_net   2219\n",
       "2       misc_net   1182\n",
       "3   shopping_pos   1056\n",
       "4  gas_transport    772"
      ]
     },
     "execution_count": 15,
     "metadata": {},
     "output_type": "execute_result"
    }
   ],
   "source": [
    "temp = df.loc[df['is_fraud']==1]\n",
    "cat = temp[['category']]\n",
    "cat = cat['category'].value_counts()\n",
    "cat = cat.to_frame()\n",
    "cat.index.name = 'newhead'\n",
    "cat.reset_index(inplace=True)\n",
    "\n",
    "cat.rename(columns = {'newhead': 'category', 'category': 'count'}, inplace=True)\n",
    "cat.head()"
   ]
  },
  {
   "cell_type": "code",
   "execution_count": 16,
   "metadata": {},
   "outputs": [
    {
     "data": {
      "text/plain": [
       "<matplotlib.axes._subplots.AxesSubplot at 0x209d72c5c10>"
      ]
     },
     "execution_count": 16,
     "metadata": {},
     "output_type": "execute_result"
    },
    {
     "data": {
      "image/png": "[encoded data removed]",
      "text/plain": [
       "<Figure size 432x288 with 1 Axes>"
      ]
     },
     "metadata": {
      "needs_background": "light"
     },
     "output_type": "display_data"
    }
   ],
   "source": [
    "sns.barplot(x='category', y='count', data = cat)"
   ]
  },
  {
   "cell_type": "code",
   "execution_count": 17,
   "metadata": {},
   "outputs": [
    {
     "data": {
      "text/html": [
       "<div>\n",
       "<style scoped>\n",
       "    .dataframe tbody tr th:only-of-type {\n",
       "        vertical-align: middle;\n",
       "    }\n",
       "\n",
       "    .dataframe tbody tr th {\n",
       "        vertical-align: top;\n",
       "    }\n",
       "\n",
       "    .dataframe thead th {\n",
       "        text-align: right;\n",
       "    }\n",
       "</style>\n",
       "<table border=\"1\" class=\"dataframe\">\n",
       "  <thead>\n",
       "    <tr style=\"text-align: right;\">\n",
       "      <th></th>\n",
       "      <th>category</th>\n",
       "      <th>count</th>\n",
       "    </tr>\n",
       "  </thead>\n",
       "  <tbody>\n",
       "    <tr>\n",
       "      <th>0</th>\n",
       "      <td>gas_transport</td>\n",
       "      <td>187257</td>\n",
       "    </tr>\n",
       "    <tr>\n",
       "      <th>1</th>\n",
       "      <td>home</td>\n",
       "      <td>175195</td>\n",
       "    </tr>\n",
       "    <tr>\n",
       "      <th>2</th>\n",
       "      <td>grocery_pos</td>\n",
       "      <td>173963</td>\n",
       "    </tr>\n",
       "    <tr>\n",
       "      <th>3</th>\n",
       "      <td>shopping_pos</td>\n",
       "      <td>165407</td>\n",
       "    </tr>\n",
       "    <tr>\n",
       "      <th>4</th>\n",
       "      <td>kids_pets</td>\n",
       "      <td>161423</td>\n",
       "    </tr>\n",
       "  </tbody>\n",
       "</table>\n",
       "</div>"
      ],
      "text/plain": [
       "        category   count\n",
       "0  gas_transport  187257\n",
       "1           home  175195\n",
       "2    grocery_pos  173963\n",
       "3   shopping_pos  165407\n",
       "4      kids_pets  161423"
      ]
     },
     "execution_count": 17,
     "metadata": {},
     "output_type": "execute_result"
    }
   ],
   "source": [
    "no_fraud = df.loc[df['is_fraud']==0]\n",
    "cat = no_fraud[['category']]\n",
    "cat = cat['category'].value_counts()\n",
    "cat = cat.to_frame()\n",
    "cat.index.name = 'newhead'\n",
    "cat.reset_index(inplace=True)\n",
    "\n",
    "cat.rename(columns = {'newhead': 'category', 'category': 'count'}, inplace=True)\n",
    "cat.head()"
   ]
  },
  {
   "cell_type": "code",
   "execution_count": 18,
   "metadata": {},
   "outputs": [
    {
     "data": {
      "text/plain": [
       "<matplotlib.axes._subplots.AxesSubplot at 0x209b94d6ac0>"
      ]
     },
     "execution_count": 18,
     "metadata": {},
     "output_type": "execute_result"
    },
    {
     "data": {
      "image/png": "[encoded data removed]",
      "text/plain": [
       "<Figure size 432x288 with 1 Axes>"
      ]
     },
     "metadata": {
      "needs_background": "light"
     },
     "output_type": "display_data"
    }
   ],
   "source": [
    "sns.barplot(x='category', y='count', data = cat)"
   ]
  },
  {
   "cell_type": "markdown",
   "metadata": {},
   "source": [
    "Comparing non fraudulent cases to fraudulent cases, we see that most fraud occurs in the form of grocery point of sale transactions and online shopping transactions. In non fraudulent purchases, we see that gas_trasport and home transactions are the top two types of transactions. So we will consider category of purchase in our model."
   ]
  },
  {
   "cell_type": "code",
   "execution_count": 19,
   "metadata": {},
   "outputs": [
    {
     "data": {
      "text/html": [
       "<div>\n",
       "<style scoped>\n",
       "    .dataframe tbody tr th:only-of-type {\n",
       "        vertical-align: middle;\n",
       "    }\n",
       "\n",
       "    .dataframe tbody tr th {\n",
       "        vertical-align: top;\n",
       "    }\n",
       "\n",
       "    .dataframe thead th {\n",
       "        text-align: right;\n",
       "    }\n",
       "</style>\n",
       "<table border=\"1\" class=\"dataframe\">\n",
       "  <thead>\n",
       "    <tr style=\"text-align: right;\">\n",
       "      <th></th>\n",
       "      <th>merchant</th>\n",
       "      <th>count</th>\n",
       "    </tr>\n",
       "  </thead>\n",
       "  <tbody>\n",
       "    <tr>\n",
       "      <th>0</th>\n",
       "      <td>fraud_Kilback LLC</td>\n",
       "      <td>62</td>\n",
       "    </tr>\n",
       "    <tr>\n",
       "      <th>1</th>\n",
       "      <td>fraud_Rau and Sons</td>\n",
       "      <td>60</td>\n",
       "    </tr>\n",
       "    <tr>\n",
       "      <th>2</th>\n",
       "      <td>fraud_Kozey-Boehm</td>\n",
       "      <td>60</td>\n",
       "    </tr>\n",
       "    <tr>\n",
       "      <th>3</th>\n",
       "      <td>fraud_Doyle Ltd</td>\n",
       "      <td>57</td>\n",
       "    </tr>\n",
       "    <tr>\n",
       "      <th>4</th>\n",
       "      <td>fraud_Terry-Huel</td>\n",
       "      <td>56</td>\n",
       "    </tr>\n",
       "  </tbody>\n",
       "</table>\n",
       "</div>"
      ],
      "text/plain": [
       "             merchant  count\n",
       "0   fraud_Kilback LLC     62\n",
       "1  fraud_Rau and Sons     60\n",
       "2   fraud_Kozey-Boehm     60\n",
       "3     fraud_Doyle Ltd     57\n",
       "4    fraud_Terry-Huel     56"
      ]
     },
     "execution_count": 19,
     "metadata": {},
     "output_type": "execute_result"
    }
   ],
   "source": [
    "merch = temp[['merchant']]\n",
    "merch = merch['merchant'].value_counts()\n",
    "merch = merch.to_frame()\n",
    "merch.index.name = 'newhead'\n",
    "merch.reset_index(inplace=True)\n",
    "\n",
    "merch.rename(columns = {'newhead': 'merchant', 'merchant': 'count'}, inplace=True)\n",
    "merch.head()"
   ]
  },
  {
   "cell_type": "code",
   "execution_count": 20,
   "metadata": {},
   "outputs": [
    {
     "data": {
      "text/plain": [
       "<matplotlib.axes._subplots.AxesSubplot at 0x209b9753760>"
      ]
     },
     "execution_count": 20,
     "metadata": {},
     "output_type": "execute_result"
    },
    {
     "data": {
      "image/png": "[encoded data removed]",
      "text/plain": [
       "<Figure size 432x288 with 1 Axes>"
      ]
     },
     "metadata": {
      "needs_background": "light"
     },
     "output_type": "display_data"
    }
   ],
   "source": [
    "sns.barplot(x='merchant', y='count', data = merch)"
   ]
  },
  {
   "cell_type": "code",
   "execution_count": 21,
   "metadata": {},
   "outputs": [
    {
     "data": {
      "text/html": [
       "<div>\n",
       "<style scoped>\n",
       "    .dataframe tbody tr th:only-of-type {\n",
       "        vertical-align: middle;\n",
       "    }\n",
       "\n",
       "    .dataframe tbody tr th {\n",
       "        vertical-align: top;\n",
       "    }\n",
       "\n",
       "    .dataframe thead th {\n",
       "        text-align: right;\n",
       "    }\n",
       "</style>\n",
       "<table border=\"1\" class=\"dataframe\">\n",
       "  <thead>\n",
       "    <tr style=\"text-align: right;\">\n",
       "      <th></th>\n",
       "      <th>merchant</th>\n",
       "      <th>count</th>\n",
       "    </tr>\n",
       "  </thead>\n",
       "  <tbody>\n",
       "    <tr>\n",
       "      <th>0</th>\n",
       "      <td>fraud_Kilback LLC</td>\n",
       "      <td>6200</td>\n",
       "    </tr>\n",
       "    <tr>\n",
       "      <th>1</th>\n",
       "      <td>fraud_Cormier LLC</td>\n",
       "      <td>5193</td>\n",
       "    </tr>\n",
       "    <tr>\n",
       "      <th>2</th>\n",
       "      <td>fraud_Schumm PLC</td>\n",
       "      <td>5154</td>\n",
       "    </tr>\n",
       "    <tr>\n",
       "      <th>3</th>\n",
       "      <td>fraud_Kuhn LLC</td>\n",
       "      <td>4976</td>\n",
       "    </tr>\n",
       "    <tr>\n",
       "      <th>4</th>\n",
       "      <td>fraud_Dickinson Ltd</td>\n",
       "      <td>4944</td>\n",
       "    </tr>\n",
       "  </tbody>\n",
       "</table>\n",
       "</div>"
      ],
      "text/plain": [
       "              merchant  count\n",
       "0    fraud_Kilback LLC   6200\n",
       "1    fraud_Cormier LLC   5193\n",
       "2     fraud_Schumm PLC   5154\n",
       "3       fraud_Kuhn LLC   4976\n",
       "4  fraud_Dickinson Ltd   4944"
      ]
     },
     "execution_count": 21,
     "metadata": {},
     "output_type": "execute_result"
    }
   ],
   "source": [
    "merch = no_fraud[['merchant']]\n",
    "merch = merch['merchant'].value_counts()\n",
    "merch = merch.to_frame()\n",
    "merch.index.name = 'newhead'\n",
    "merch.reset_index(inplace=True)\n",
    "\n",
    "merch.rename(columns = {'newhead': 'merchant', 'merchant': 'count'}, inplace=True)\n",
    "merch.head()"
   ]
  },
  {
   "cell_type": "code",
   "execution_count": 22,
   "metadata": {},
   "outputs": [
    {
     "data": {
      "text/plain": [
       "<matplotlib.axes._subplots.AxesSubplot at 0x209bc7dc460>"
      ]
     },
     "execution_count": 22,
     "metadata": {},
     "output_type": "execute_result"
    },
    {
     "data": {
      "image/png": "[encoded data removed]",
      "text/plain": [
       "<Figure size 432x288 with 1 Axes>"
      ]
     },
     "metadata": {
      "needs_background": "light"
     },
     "output_type": "display_data"
    }
   ],
   "source": [
    "sns.barplot(x='merchant', y='count', data = merch)"
   ]
  },
  {
   "cell_type": "markdown",
   "metadata": {},
   "source": [
    "The shape of the graph and the merchant of the transactions are also different in terms of frequency between both types of transactions. We will consider this as a variable in our model."
   ]
  },
  {
   "cell_type": "code",
   "execution_count": 23,
   "metadata": {},
   "outputs": [
    {
     "data": {
      "text/html": [
       "<div>\n",
       "<style scoped>\n",
       "    .dataframe tbody tr th:only-of-type {\n",
       "        vertical-align: middle;\n",
       "    }\n",
       "\n",
       "    .dataframe tbody tr th {\n",
       "        vertical-align: top;\n",
       "    }\n",
       "\n",
       "    .dataframe thead th {\n",
       "        text-align: right;\n",
       "    }\n",
       "</style>\n",
       "<table border=\"1\" class=\"dataframe\">\n",
       "  <thead>\n",
       "    <tr style=\"text-align: right;\">\n",
       "      <th></th>\n",
       "      <th>gender</th>\n",
       "      <th>count</th>\n",
       "    </tr>\n",
       "  </thead>\n",
       "  <tbody>\n",
       "    <tr>\n",
       "      <th>0</th>\n",
       "      <td>F</td>\n",
       "      <td>4899</td>\n",
       "    </tr>\n",
       "    <tr>\n",
       "      <th>1</th>\n",
       "      <td>M</td>\n",
       "      <td>4752</td>\n",
       "    </tr>\n",
       "  </tbody>\n",
       "</table>\n",
       "</div>"
      ],
      "text/plain": [
       "  gender  count\n",
       "0      F   4899\n",
       "1      M   4752"
      ]
     },
     "execution_count": 23,
     "metadata": {},
     "output_type": "execute_result"
    }
   ],
   "source": [
    "gender = temp[['gender']]\n",
    "gender = gender['gender'].value_counts()\n",
    "gender = gender.to_frame()\n",
    "gender.index.name = 'newhead'\n",
    "gender.reset_index(inplace=True)\n",
    "\n",
    "gender.rename(columns = {'newhead': 'gender', 'gender': 'count'}, inplace=True)\n",
    "gender.head()"
   ]
  },
  {
   "cell_type": "code",
   "execution_count": 24,
   "metadata": {},
   "outputs": [
    {
     "data": {
      "text/html": [
       "<div>\n",
       "<style scoped>\n",
       "    .dataframe tbody tr th:only-of-type {\n",
       "        vertical-align: middle;\n",
       "    }\n",
       "\n",
       "    .dataframe tbody tr th {\n",
       "        vertical-align: top;\n",
       "    }\n",
       "\n",
       "    .dataframe thead th {\n",
       "        text-align: right;\n",
       "    }\n",
       "</style>\n",
       "<table border=\"1\" class=\"dataframe\">\n",
       "  <thead>\n",
       "    <tr style=\"text-align: right;\">\n",
       "      <th></th>\n",
       "      <th>gender</th>\n",
       "      <th>count</th>\n",
       "    </tr>\n",
       "  </thead>\n",
       "  <tbody>\n",
       "    <tr>\n",
       "      <th>0</th>\n",
       "      <td>F</td>\n",
       "      <td>1009850</td>\n",
       "    </tr>\n",
       "    <tr>\n",
       "      <th>1</th>\n",
       "      <td>M</td>\n",
       "      <td>832893</td>\n",
       "    </tr>\n",
       "  </tbody>\n",
       "</table>\n",
       "</div>"
      ],
      "text/plain": [
       "  gender    count\n",
       "0      F  1009850\n",
       "1      M   832893"
      ]
     },
     "execution_count": 24,
     "metadata": {},
     "output_type": "execute_result"
    }
   ],
   "source": [
    "gender = no_fraud[['gender']]\n",
    "gender = gender['gender'].value_counts()\n",
    "gender = gender.to_frame()\n",
    "gender.index.name = 'newhead'\n",
    "gender.reset_index(inplace=True)\n",
    "\n",
    "gender.rename(columns = {'newhead': 'gender', 'gender': 'count'}, inplace=True)\n",
    "gender.head()"
   ]
  },
  {
   "cell_type": "markdown",
   "metadata": {},
   "source": [
    "Distribution is roughly the same between M and F for non fraudulent cases. Thus as there is no variance between genders in the fraudulent cases, it is likely that the gender does not matter for selection of fraudulent cases. We will not include this variable in our model."
   ]
  },
  {
   "cell_type": "code",
   "execution_count": 25,
   "metadata": {},
   "outputs": [
    {
     "data": {
      "text/html": [
       "<div>\n",
       "<style scoped>\n",
       "    .dataframe tbody tr th:only-of-type {\n",
       "        vertical-align: middle;\n",
       "    }\n",
       "\n",
       "    .dataframe tbody tr th {\n",
       "        vertical-align: top;\n",
       "    }\n",
       "\n",
       "    .dataframe thead th {\n",
       "        text-align: right;\n",
       "    }\n",
       "</style>\n",
       "<table border=\"1\" class=\"dataframe\">\n",
       "  <thead>\n",
       "    <tr style=\"text-align: right;\">\n",
       "      <th></th>\n",
       "      <th>city</th>\n",
       "      <th>count</th>\n",
       "    </tr>\n",
       "  </thead>\n",
       "  <tbody>\n",
       "    <tr>\n",
       "      <th>0</th>\n",
       "      <td>Dallas</td>\n",
       "      <td>39</td>\n",
       "    </tr>\n",
       "    <tr>\n",
       "      <th>1</th>\n",
       "      <td>Houston</td>\n",
       "      <td>39</td>\n",
       "    </tr>\n",
       "    <tr>\n",
       "      <th>2</th>\n",
       "      <td>Birmingham</td>\n",
       "      <td>36</td>\n",
       "    </tr>\n",
       "    <tr>\n",
       "      <th>3</th>\n",
       "      <td>New York City</td>\n",
       "      <td>35</td>\n",
       "    </tr>\n",
       "    <tr>\n",
       "      <th>4</th>\n",
       "      <td>Camden</td>\n",
       "      <td>34</td>\n",
       "    </tr>\n",
       "  </tbody>\n",
       "</table>\n",
       "</div>"
      ],
      "text/plain": [
       "            city  count\n",
       "0         Dallas     39\n",
       "1        Houston     39\n",
       "2     Birmingham     36\n",
       "3  New York City     35\n",
       "4         Camden     34"
      ]
     },
     "execution_count": 25,
     "metadata": {},
     "output_type": "execute_result"
    }
   ],
   "source": [
    "city = temp[['city']]\n",
    "city = city['city'].value_counts()\n",
    "city = city.to_frame()\n",
    "city.index.name = 'newhead'\n",
    "city.reset_index(inplace=True)\n",
    "\n",
    "city.rename(columns = {'newhead': 'city', 'city': 'count'}, inplace=True)\n",
    "city.head()"
   ]
  },
  {
   "cell_type": "code",
   "execution_count": 26,
   "metadata": {},
   "outputs": [
    {
     "data": {
      "text/plain": [
       "<matplotlib.axes._subplots.AxesSubplot at 0x209c8ab5610>"
      ]
     },
     "execution_count": 26,
     "metadata": {},
     "output_type": "execute_result"
    },
    {
     "data": {
      "image/png": "[encoded data removed]",
      "text/plain": [
       "<Figure size 432x288 with 1 Axes>"
      ]
     },
     "metadata": {
      "needs_background": "light"
     },
     "output_type": "display_data"
    }
   ],
   "source": [
    "sns.barplot(x='city', y='count', data = city)"
   ]
  },
  {
   "cell_type": "code",
   "execution_count": 27,
   "metadata": {},
   "outputs": [
    {
     "data": {
      "text/html": [
       "<div>\n",
       "<style scoped>\n",
       "    .dataframe tbody tr th:only-of-type {\n",
       "        vertical-align: middle;\n",
       "    }\n",
       "\n",
       "    .dataframe tbody tr th {\n",
       "        vertical-align: top;\n",
       "    }\n",
       "\n",
       "    .dataframe thead th {\n",
       "        text-align: right;\n",
       "    }\n",
       "</style>\n",
       "<table border=\"1\" class=\"dataframe\">\n",
       "  <thead>\n",
       "    <tr style=\"text-align: right;\">\n",
       "      <th></th>\n",
       "      <th>city</th>\n",
       "      <th>count</th>\n",
       "    </tr>\n",
       "  </thead>\n",
       "  <tbody>\n",
       "    <tr>\n",
       "      <th>0</th>\n",
       "      <td>Birmingham</td>\n",
       "      <td>8004</td>\n",
       "    </tr>\n",
       "    <tr>\n",
       "      <th>1</th>\n",
       "      <td>San Antonio</td>\n",
       "      <td>7287</td>\n",
       "    </tr>\n",
       "    <tr>\n",
       "      <th>2</th>\n",
       "      <td>Utica</td>\n",
       "      <td>7284</td>\n",
       "    </tr>\n",
       "    <tr>\n",
       "      <th>3</th>\n",
       "      <td>Phoenix</td>\n",
       "      <td>7280</td>\n",
       "    </tr>\n",
       "    <tr>\n",
       "      <th>4</th>\n",
       "      <td>Meridian</td>\n",
       "      <td>7271</td>\n",
       "    </tr>\n",
       "  </tbody>\n",
       "</table>\n",
       "</div>"
      ],
      "text/plain": [
       "          city  count\n",
       "0   Birmingham   8004\n",
       "1  San Antonio   7287\n",
       "2        Utica   7284\n",
       "3      Phoenix   7280\n",
       "4     Meridian   7271"
      ]
     },
     "execution_count": 27,
     "metadata": {},
     "output_type": "execute_result"
    }
   ],
   "source": [
    "city = no_fraud[['city']]\n",
    "city = city['city'].value_counts()\n",
    "city = city.to_frame()\n",
    "city.index.name = 'newhead'\n",
    "city.reset_index(inplace=True)\n",
    "\n",
    "city.rename(columns = {'newhead': 'city', 'city': 'count'}, inplace=True)\n",
    "city.head()"
   ]
  },
  {
   "cell_type": "code",
   "execution_count": 28,
   "metadata": {},
   "outputs": [
    {
     "data": {
      "text/plain": [
       "<matplotlib.axes._subplots.AxesSubplot at 0x209ca539370>"
      ]
     },
     "execution_count": 28,
     "metadata": {},
     "output_type": "execute_result"
    },
    {
     "data": {
      "image/png": "[encoded data removed]",
      "text/plain": [
       "<Figure size 432x288 with 1 Axes>"
      ]
     },
     "metadata": {
      "needs_background": "light"
     },
     "output_type": "display_data"
    }
   ],
   "source": [
    "sns.barplot(x='city', y='count', data = city)"
   ]
  },
  {
   "cell_type": "markdown",
   "metadata": {},
   "source": [
    "The may be a relationship between city and number of fraud. Houston has the most number of fraud yet it does not appear in the top 5 cities for non fraud cases. It appears that fraud cases may be linked to city so we will include this variable in our model."
   ]
  },
  {
   "cell_type": "code",
   "execution_count": 29,
   "metadata": {},
   "outputs": [
    {
     "data": {
      "text/html": [
       "<div>\n",
       "<style scoped>\n",
       "    .dataframe tbody tr th:only-of-type {\n",
       "        vertical-align: middle;\n",
       "    }\n",
       "\n",
       "    .dataframe tbody tr th {\n",
       "        vertical-align: top;\n",
       "    }\n",
       "\n",
       "    .dataframe thead th {\n",
       "        text-align: right;\n",
       "    }\n",
       "</style>\n",
       "<table border=\"1\" class=\"dataframe\">\n",
       "  <thead>\n",
       "    <tr style=\"text-align: right;\">\n",
       "      <th></th>\n",
       "      <th>state</th>\n",
       "      <th>count</th>\n",
       "    </tr>\n",
       "  </thead>\n",
       "  <tbody>\n",
       "    <tr>\n",
       "      <th>0</th>\n",
       "      <td>NY</td>\n",
       "      <td>730</td>\n",
       "    </tr>\n",
       "    <tr>\n",
       "      <th>1</th>\n",
       "      <td>TX</td>\n",
       "      <td>592</td>\n",
       "    </tr>\n",
       "    <tr>\n",
       "      <th>2</th>\n",
       "      <td>PA</td>\n",
       "      <td>572</td>\n",
       "    </tr>\n",
       "    <tr>\n",
       "      <th>3</th>\n",
       "      <td>CA</td>\n",
       "      <td>402</td>\n",
       "    </tr>\n",
       "    <tr>\n",
       "      <th>4</th>\n",
       "      <td>OH</td>\n",
       "      <td>360</td>\n",
       "    </tr>\n",
       "  </tbody>\n",
       "</table>\n",
       "</div>"
      ],
      "text/plain": [
       "  state  count\n",
       "0    NY    730\n",
       "1    TX    592\n",
       "2    PA    572\n",
       "3    CA    402\n",
       "4    OH    360"
      ]
     },
     "execution_count": 29,
     "metadata": {},
     "output_type": "execute_result"
    }
   ],
   "source": [
    "state = temp[['state']]\n",
    "state = state['state'].value_counts()\n",
    "state = state.to_frame()\n",
    "state.index.name = 'newhead'\n",
    "state.reset_index(inplace=True)\n",
    "\n",
    "state.rename(columns = {'newhead': 'state', 'state': 'count'}, inplace=True)\n",
    "state.head()"
   ]
  },
  {
   "cell_type": "code",
   "execution_count": 30,
   "metadata": {},
   "outputs": [
    {
     "data": {
      "text/plain": [
       "<matplotlib.axes._subplots.AxesSubplot at 0x209cadafbb0>"
      ]
     },
     "execution_count": 30,
     "metadata": {},
     "output_type": "execute_result"
    },
    {
     "data": {
      "image/png": "[encoded data removed]",
      "text/plain": [
       "<Figure size 432x288 with 1 Axes>"
      ]
     },
     "metadata": {
      "needs_background": "light"
     },
     "output_type": "display_data"
    }
   ],
   "source": [
    "sns.barplot(x='state', y='count', data = state)"
   ]
  },
  {
   "cell_type": "code",
   "execution_count": 31,
   "metadata": {},
   "outputs": [
    {
     "data": {
      "text/html": [
       "<div>\n",
       "<style scoped>\n",
       "    .dataframe tbody tr th:only-of-type {\n",
       "        vertical-align: middle;\n",
       "    }\n",
       "\n",
       "    .dataframe tbody tr th {\n",
       "        vertical-align: top;\n",
       "    }\n",
       "\n",
       "    .dataframe thead th {\n",
       "        text-align: right;\n",
       "    }\n",
       "</style>\n",
       "<table border=\"1\" class=\"dataframe\">\n",
       "  <thead>\n",
       "    <tr style=\"text-align: right;\">\n",
       "      <th></th>\n",
       "      <th>state</th>\n",
       "      <th>count</th>\n",
       "    </tr>\n",
       "  </thead>\n",
       "  <tbody>\n",
       "    <tr>\n",
       "      <th>0</th>\n",
       "      <td>TX</td>\n",
       "      <td>134677</td>\n",
       "    </tr>\n",
       "    <tr>\n",
       "      <th>1</th>\n",
       "      <td>NY</td>\n",
       "      <td>118689</td>\n",
       "    </tr>\n",
       "    <tr>\n",
       "      <th>2</th>\n",
       "      <td>PA</td>\n",
       "      <td>113601</td>\n",
       "    </tr>\n",
       "    <tr>\n",
       "      <th>3</th>\n",
       "      <td>CA</td>\n",
       "      <td>80093</td>\n",
       "    </tr>\n",
       "    <tr>\n",
       "      <th>4</th>\n",
       "      <td>OH</td>\n",
       "      <td>66267</td>\n",
       "    </tr>\n",
       "  </tbody>\n",
       "</table>\n",
       "</div>"
      ],
      "text/plain": [
       "  state   count\n",
       "0    TX  134677\n",
       "1    NY  118689\n",
       "2    PA  113601\n",
       "3    CA   80093\n",
       "4    OH   66267"
      ]
     },
     "execution_count": 31,
     "metadata": {},
     "output_type": "execute_result"
    }
   ],
   "source": [
    "state = no_fraud[['state']]\n",
    "state = state['state'].value_counts()\n",
    "state = state.to_frame()\n",
    "state.index.name = 'newhead'\n",
    "state.reset_index(inplace=True)\n",
    "\n",
    "state.rename(columns = {'newhead': 'state', 'state': 'count'}, inplace=True)\n",
    "state.head()"
   ]
  },
  {
   "cell_type": "code",
   "execution_count": 32,
   "metadata": {},
   "outputs": [
    {
     "data": {
      "text/plain": [
       "<matplotlib.axes._subplots.AxesSubplot at 0x209cc6add30>"
      ]
     },
     "execution_count": 32,
     "metadata": {},
     "output_type": "execute_result"
    },
    {
     "data": {
      "image/png": "[encoded data removed]",
      "text/plain": [
       "<Figure size 432x288 with 1 Axes>"
      ]
     },
     "metadata": {
      "needs_background": "light"
     },
     "output_type": "display_data"
    }
   ],
   "source": [
    "sns.barplot(x='state', y='count', data = state)"
   ]
  },
  {
   "cell_type": "markdown",
   "metadata": {},
   "source": [
    "There appears to be more fraud in some states than others. New York has the most number of fraud"
   ]
  },
  {
   "cell_type": "markdown",
   "metadata": {},
   "source": [
    "States seem very similar to each other, however NY has more fraudulent transactions than texas. There are a decent amount of samples for fraudulent purchases so it is likely that NY will have more fraud than TX. We will include this variable in our model."
   ]
  },
  {
   "cell_type": "code",
   "execution_count": 33,
   "metadata": {},
   "outputs": [
    {
     "data": {
      "text/html": [
       "<div>\n",
       "<style scoped>\n",
       "    .dataframe tbody tr th:only-of-type {\n",
       "        vertical-align: middle;\n",
       "    }\n",
       "\n",
       "    .dataframe tbody tr th {\n",
       "        vertical-align: top;\n",
       "    }\n",
       "\n",
       "    .dataframe thead th {\n",
       "        text-align: right;\n",
       "    }\n",
       "</style>\n",
       "<table border=\"1\" class=\"dataframe\">\n",
       "  <thead>\n",
       "    <tr style=\"text-align: right;\">\n",
       "      <th></th>\n",
       "      <th>zip</th>\n",
       "      <th>count</th>\n",
       "    </tr>\n",
       "  </thead>\n",
       "  <tbody>\n",
       "    <tr>\n",
       "      <th>0</th>\n",
       "      <td>15010</td>\n",
       "      <td>24</td>\n",
       "    </tr>\n",
       "    <tr>\n",
       "      <th>1</th>\n",
       "      <td>48088</td>\n",
       "      <td>23</td>\n",
       "    </tr>\n",
       "    <tr>\n",
       "      <th>2</th>\n",
       "      <td>82514</td>\n",
       "      <td>21</td>\n",
       "    </tr>\n",
       "    <tr>\n",
       "      <th>3</th>\n",
       "      <td>16034</td>\n",
       "      <td>21</td>\n",
       "    </tr>\n",
       "    <tr>\n",
       "      <th>4</th>\n",
       "      <td>91206</td>\n",
       "      <td>20</td>\n",
       "    </tr>\n",
       "    <tr>\n",
       "      <th>...</th>\n",
       "      <td>...</td>\n",
       "      <td>...</td>\n",
       "    </tr>\n",
       "    <tr>\n",
       "      <th>958</th>\n",
       "      <td>75662</td>\n",
       "      <td>2</td>\n",
       "    </tr>\n",
       "    <tr>\n",
       "      <th>959</th>\n",
       "      <td>75092</td>\n",
       "      <td>2</td>\n",
       "    </tr>\n",
       "    <tr>\n",
       "      <th>960</th>\n",
       "      <td>85020</td>\n",
       "      <td>2</td>\n",
       "    </tr>\n",
       "    <tr>\n",
       "      <th>961</th>\n",
       "      <td>33811</td>\n",
       "      <td>2</td>\n",
       "    </tr>\n",
       "    <tr>\n",
       "      <th>962</th>\n",
       "      <td>28405</td>\n",
       "      <td>2</td>\n",
       "    </tr>\n",
       "  </tbody>\n",
       "</table>\n",
       "<p>963 rows × 2 columns</p>\n",
       "</div>"
      ],
      "text/plain": [
       "       zip  count\n",
       "0    15010     24\n",
       "1    48088     23\n",
       "2    82514     21\n",
       "3    16034     21\n",
       "4    91206     20\n",
       "..     ...    ...\n",
       "958  75662      2\n",
       "959  75092      2\n",
       "960  85020      2\n",
       "961  33811      2\n",
       "962  28405      2\n",
       "\n",
       "[963 rows x 2 columns]"
      ]
     },
     "execution_count": 33,
     "metadata": {},
     "output_type": "execute_result"
    }
   ],
   "source": [
    "zipc = temp[['zip']]\n",
    "zipc = zipc['zip'].value_counts()\n",
    "zipc = zipc.to_frame()\n",
    "zipc.index.name = 'newhead'\n",
    "zipc.reset_index(inplace=True)\n",
    "\n",
    "zipc.rename(columns = {'newhead': 'zip', 'zip': 'count'}, inplace=True)\n",
    "zipc"
   ]
  },
  {
   "cell_type": "code",
   "execution_count": 34,
   "metadata": {},
   "outputs": [
    {
     "data": {
      "text/plain": [
       "<matplotlib.axes._subplots.AxesSubplot at 0x209cca60370>"
      ]
     },
     "execution_count": 34,
     "metadata": {},
     "output_type": "execute_result"
    },
    {
     "data": {
      "image/png": "[encoded data removed]",
      "text/plain": [
       "<Figure size 432x288 with 1 Axes>"
      ]
     },
     "metadata": {
      "needs_background": "light"
     },
     "output_type": "display_data"
    }
   ],
   "source": [
    "sns.barplot(x='zip', y='count', data = zipc)"
   ]
  },
  {
   "cell_type": "code",
   "execution_count": 35,
   "metadata": {},
   "outputs": [
    {
     "data": {
      "text/html": [
       "<div>\n",
       "<style scoped>\n",
       "    .dataframe tbody tr th:only-of-type {\n",
       "        vertical-align: middle;\n",
       "    }\n",
       "\n",
       "    .dataframe tbody tr th {\n",
       "        vertical-align: top;\n",
       "    }\n",
       "\n",
       "    .dataframe thead th {\n",
       "        text-align: right;\n",
       "    }\n",
       "</style>\n",
       "<table border=\"1\" class=\"dataframe\">\n",
       "  <thead>\n",
       "    <tr style=\"text-align: right;\">\n",
       "      <th></th>\n",
       "      <th>zip</th>\n",
       "      <th>count</th>\n",
       "    </tr>\n",
       "  </thead>\n",
       "  <tbody>\n",
       "    <tr>\n",
       "      <th>0</th>\n",
       "      <td>73754</td>\n",
       "      <td>5100</td>\n",
       "    </tr>\n",
       "    <tr>\n",
       "      <th>1</th>\n",
       "      <td>82514</td>\n",
       "      <td>5095</td>\n",
       "    </tr>\n",
       "    <tr>\n",
       "      <th>2</th>\n",
       "      <td>48088</td>\n",
       "      <td>5092</td>\n",
       "    </tr>\n",
       "    <tr>\n",
       "      <th>3</th>\n",
       "      <td>34112</td>\n",
       "      <td>5090</td>\n",
       "    </tr>\n",
       "    <tr>\n",
       "      <th>4</th>\n",
       "      <td>19149</td>\n",
       "      <td>4380</td>\n",
       "    </tr>\n",
       "    <tr>\n",
       "      <th>...</th>\n",
       "      <td>...</td>\n",
       "      <td>...</td>\n",
       "    </tr>\n",
       "    <tr>\n",
       "      <th>892</th>\n",
       "      <td>35131</td>\n",
       "      <td>724</td>\n",
       "    </tr>\n",
       "    <tr>\n",
       "      <th>893</th>\n",
       "      <td>63829</td>\n",
       "      <td>724</td>\n",
       "    </tr>\n",
       "    <tr>\n",
       "      <th>894</th>\n",
       "      <td>44307</td>\n",
       "      <td>724</td>\n",
       "    </tr>\n",
       "    <tr>\n",
       "      <th>895</th>\n",
       "      <td>18357</td>\n",
       "      <td>723</td>\n",
       "    </tr>\n",
       "    <tr>\n",
       "      <th>896</th>\n",
       "      <td>54499</td>\n",
       "      <td>723</td>\n",
       "    </tr>\n",
       "  </tbody>\n",
       "</table>\n",
       "<p>897 rows × 2 columns</p>\n",
       "</div>"
      ],
      "text/plain": [
       "       zip  count\n",
       "0    73754   5100\n",
       "1    82514   5095\n",
       "2    48088   5092\n",
       "3    34112   5090\n",
       "4    19149   4380\n",
       "..     ...    ...\n",
       "892  35131    724\n",
       "893  63829    724\n",
       "894  44307    724\n",
       "895  18357    723\n",
       "896  54499    723\n",
       "\n",
       "[897 rows x 2 columns]"
      ]
     },
     "execution_count": 35,
     "metadata": {},
     "output_type": "execute_result"
    }
   ],
   "source": [
    "zipc = no_fraud[['zip']]\n",
    "zipc = zipc['zip'].value_counts()\n",
    "zipc = zipc.to_frame()\n",
    "zipc.index.name = 'newhead'\n",
    "zipc.reset_index(inplace=True)\n",
    "\n",
    "zipc.rename(columns = {'newhead': 'zip', 'zip': 'count'}, inplace=True)\n",
    "zipc"
   ]
  },
  {
   "cell_type": "code",
   "execution_count": 36,
   "metadata": {},
   "outputs": [
    {
     "data": {
      "text/plain": [
       "<matplotlib.axes._subplots.AxesSubplot at 0x209d970e910>"
      ]
     },
     "execution_count": 36,
     "metadata": {},
     "output_type": "execute_result"
    },
    {
     "data": {
      "image/png": "[encoded data removed]",
      "text/plain": [
       "<Figure size 432x288 with 1 Axes>"
      ]
     },
     "metadata": {
      "needs_background": "light"
     },
     "output_type": "display_data"
    }
   ],
   "source": [
    "sns.barplot(x='zip', y='count', data = zipc)"
   ]
  },
  {
   "cell_type": "markdown",
   "metadata": {},
   "source": [
    "Some zips have a high value for fraud, which could strenghten our model to have a higher weight in these areas. We will include this in our model"
   ]
  },
  {
   "cell_type": "markdown",
   "metadata": {},
   "source": [
    "#### Long and Lat\n",
    "We will look into longitude and latitude comparing between fraud and no fraud."
   ]
  },
  {
   "cell_type": "code",
   "execution_count": 37,
   "metadata": {},
   "outputs": [
    {
     "data": {
      "text/html": [
       "<div>\n",
       "<style scoped>\n",
       "    .dataframe tbody tr th:only-of-type {\n",
       "        vertical-align: middle;\n",
       "    }\n",
       "\n",
       "    .dataframe tbody tr th {\n",
       "        vertical-align: top;\n",
       "    }\n",
       "\n",
       "    .dataframe thead th {\n",
       "        text-align: right;\n",
       "    }\n",
       "</style>\n",
       "<table border=\"1\" class=\"dataframe\">\n",
       "  <thead>\n",
       "    <tr style=\"text-align: right;\">\n",
       "      <th></th>\n",
       "      <th>lat</th>\n",
       "      <th>count</th>\n",
       "    </tr>\n",
       "  </thead>\n",
       "  <tbody>\n",
       "    <tr>\n",
       "      <th>0</th>\n",
       "      <td>40.7687</td>\n",
       "      <td>24</td>\n",
       "    </tr>\n",
       "    <tr>\n",
       "      <th>1</th>\n",
       "      <td>42.5164</td>\n",
       "      <td>23</td>\n",
       "    </tr>\n",
       "    <tr>\n",
       "      <th>2</th>\n",
       "      <td>39.4336</td>\n",
       "      <td>23</td>\n",
       "    </tr>\n",
       "    <tr>\n",
       "      <th>3</th>\n",
       "      <td>40.8555</td>\n",
       "      <td>21</td>\n",
       "    </tr>\n",
       "    <tr>\n",
       "      <th>4</th>\n",
       "      <td>43.0048</td>\n",
       "      <td>21</td>\n",
       "    </tr>\n",
       "    <tr>\n",
       "      <th>...</th>\n",
       "      <td>...</td>\n",
       "      <td>...</td>\n",
       "    </tr>\n",
       "    <tr>\n",
       "      <th>956</th>\n",
       "      <td>33.6372</td>\n",
       "      <td>2</td>\n",
       "    </tr>\n",
       "    <tr>\n",
       "      <th>957</th>\n",
       "      <td>27.9865</td>\n",
       "      <td>2</td>\n",
       "    </tr>\n",
       "    <tr>\n",
       "      <th>958</th>\n",
       "      <td>33.5623</td>\n",
       "      <td>2</td>\n",
       "    </tr>\n",
       "    <tr>\n",
       "      <th>959</th>\n",
       "      <td>32.3836</td>\n",
       "      <td>2</td>\n",
       "    </tr>\n",
       "    <tr>\n",
       "      <th>960</th>\n",
       "      <td>39.5994</td>\n",
       "      <td>2</td>\n",
       "    </tr>\n",
       "  </tbody>\n",
       "</table>\n",
       "<p>961 rows × 2 columns</p>\n",
       "</div>"
      ],
      "text/plain": [
       "         lat  count\n",
       "0    40.7687     24\n",
       "1    42.5164     23\n",
       "2    39.4336     23\n",
       "3    40.8555     21\n",
       "4    43.0048     21\n",
       "..       ...    ...\n",
       "956  33.6372      2\n",
       "957  27.9865      2\n",
       "958  33.5623      2\n",
       "959  32.3836      2\n",
       "960  39.5994      2\n",
       "\n",
       "[961 rows x 2 columns]"
      ]
     },
     "execution_count": 37,
     "metadata": {},
     "output_type": "execute_result"
    }
   ],
   "source": [
    "lat = temp[['lat']]\n",
    "lat = lat['lat'].value_counts()\n",
    "lat = lat.to_frame()\n",
    "lat.index.name = 'newhead'\n",
    "lat.reset_index(inplace=True)\n",
    "\n",
    "lat.rename(columns = {'newhead': 'lat', 'lat': 'count'}, inplace=True)\n",
    "lat"
   ]
  },
  {
   "cell_type": "code",
   "execution_count": 38,
   "metadata": {},
   "outputs": [
    {
     "data": {
      "text/plain": [
       "<matplotlib.axes._subplots.AxesSubplot at 0x209dd3aaca0>"
      ]
     },
     "execution_count": 38,
     "metadata": {},
     "output_type": "execute_result"
    },
    {
     "data": {
      "image/png": "[encoded data removed]",
      "text/plain": [
       "<Figure size 432x288 with 1 Axes>"
      ]
     },
     "metadata": {
      "needs_background": "light"
     },
     "output_type": "display_data"
    }
   ],
   "source": [
    "sns.barplot(x='lat', y='count', data = lat)"
   ]
  },
  {
   "cell_type": "code",
   "execution_count": 39,
   "metadata": {},
   "outputs": [
    {
     "data": {
      "text/html": [
       "<div>\n",
       "<style scoped>\n",
       "    .dataframe tbody tr th:only-of-type {\n",
       "        vertical-align: middle;\n",
       "    }\n",
       "\n",
       "    .dataframe tbody tr th {\n",
       "        vertical-align: top;\n",
       "    }\n",
       "\n",
       "    .dataframe thead th {\n",
       "        text-align: right;\n",
       "    }\n",
       "</style>\n",
       "<table border=\"1\" class=\"dataframe\">\n",
       "  <thead>\n",
       "    <tr style=\"text-align: right;\">\n",
       "      <th></th>\n",
       "      <th>lat</th>\n",
       "      <th>count</th>\n",
       "    </tr>\n",
       "  </thead>\n",
       "  <tbody>\n",
       "    <tr>\n",
       "      <th>0</th>\n",
       "      <td>36.3850</td>\n",
       "      <td>5100</td>\n",
       "    </tr>\n",
       "    <tr>\n",
       "      <th>1</th>\n",
       "      <td>43.0048</td>\n",
       "      <td>5095</td>\n",
       "    </tr>\n",
       "    <tr>\n",
       "      <th>2</th>\n",
       "      <td>42.5164</td>\n",
       "      <td>5092</td>\n",
       "    </tr>\n",
       "    <tr>\n",
       "      <th>3</th>\n",
       "      <td>26.1184</td>\n",
       "      <td>5090</td>\n",
       "    </tr>\n",
       "    <tr>\n",
       "      <th>4</th>\n",
       "      <td>40.0369</td>\n",
       "      <td>4380</td>\n",
       "    </tr>\n",
       "    <tr>\n",
       "      <th>...</th>\n",
       "      <td>...</td>\n",
       "      <td>...</td>\n",
       "    </tr>\n",
       "    <tr>\n",
       "      <th>890</th>\n",
       "      <td>36.0434</td>\n",
       "      <td>724</td>\n",
       "    </tr>\n",
       "    <tr>\n",
       "      <th>891</th>\n",
       "      <td>33.1044</td>\n",
       "      <td>724</td>\n",
       "    </tr>\n",
       "    <tr>\n",
       "      <th>892</th>\n",
       "      <td>37.7681</td>\n",
       "      <td>724</td>\n",
       "    </tr>\n",
       "    <tr>\n",
       "      <th>893</th>\n",
       "      <td>41.2336</td>\n",
       "      <td>723</td>\n",
       "    </tr>\n",
       "    <tr>\n",
       "      <th>894</th>\n",
       "      <td>44.8232</td>\n",
       "      <td>723</td>\n",
       "    </tr>\n",
       "  </tbody>\n",
       "</table>\n",
       "<p>895 rows × 2 columns</p>\n",
       "</div>"
      ],
      "text/plain": [
       "         lat  count\n",
       "0    36.3850   5100\n",
       "1    43.0048   5095\n",
       "2    42.5164   5092\n",
       "3    26.1184   5090\n",
       "4    40.0369   4380\n",
       "..       ...    ...\n",
       "890  36.0434    724\n",
       "891  33.1044    724\n",
       "892  37.7681    724\n",
       "893  41.2336    723\n",
       "894  44.8232    723\n",
       "\n",
       "[895 rows x 2 columns]"
      ]
     },
     "execution_count": 39,
     "metadata": {},
     "output_type": "execute_result"
    }
   ],
   "source": [
    "lat = no_fraud[['lat']]\n",
    "lat = lat['lat'].value_counts()\n",
    "lat = lat.to_frame()\n",
    "lat.index.name = 'newhead'\n",
    "lat.reset_index(inplace=True)\n",
    "\n",
    "lat.rename(columns = {'newhead': 'lat', 'lat': 'count'}, inplace=True)\n",
    "lat"
   ]
  },
  {
   "cell_type": "code",
   "execution_count": 40,
   "metadata": {},
   "outputs": [
    {
     "data": {
      "text/plain": [
       "<matplotlib.axes._subplots.AxesSubplot at 0x209ee67d340>"
      ]
     },
     "execution_count": 40,
     "metadata": {},
     "output_type": "execute_result"
    },
    {
     "data": {
      "image/png": "[encoded data removed]",
      "text/plain": [
       "<Figure size 432x288 with 1 Axes>"
      ]
     },
     "metadata": {
      "needs_background": "light"
     },
     "output_type": "display_data"
    }
   ],
   "source": [
    "sns.barplot(x='lat', y='count', data = lat)"
   ]
  },
  {
   "cell_type": "markdown",
   "metadata": {},
   "source": [
    "We can already see that lat shape is very similar however there is an outlier in the fraud batch which suggests there seems to be a high rate of fraud there. This seems similar to the zip code so we will omit the longitude and latitude for the zip code. Including this variable may put double the weight on location, so we will keep zip code instead of longitude and latitude."
   ]
  },
  {
   "cell_type": "code",
   "execution_count": 41,
   "metadata": {},
   "outputs": [
    {
     "data": {
      "text/html": [
       "<div>\n",
       "<style scoped>\n",
       "    .dataframe tbody tr th:only-of-type {\n",
       "        vertical-align: middle;\n",
       "    }\n",
       "\n",
       "    .dataframe tbody tr th {\n",
       "        vertical-align: top;\n",
       "    }\n",
       "\n",
       "    .dataframe thead th {\n",
       "        text-align: right;\n",
       "    }\n",
       "</style>\n",
       "<table border=\"1\" class=\"dataframe\">\n",
       "  <thead>\n",
       "    <tr style=\"text-align: right;\">\n",
       "      <th></th>\n",
       "      <th>job</th>\n",
       "      <th>count</th>\n",
       "    </tr>\n",
       "  </thead>\n",
       "  <tbody>\n",
       "    <tr>\n",
       "      <th>0</th>\n",
       "      <td>Quantity surveyor</td>\n",
       "      <td>69</td>\n",
       "    </tr>\n",
       "    <tr>\n",
       "      <th>1</th>\n",
       "      <td>Naval architect</td>\n",
       "      <td>66</td>\n",
       "    </tr>\n",
       "    <tr>\n",
       "      <th>2</th>\n",
       "      <td>Materials engineer</td>\n",
       "      <td>62</td>\n",
       "    </tr>\n",
       "    <tr>\n",
       "      <th>3</th>\n",
       "      <td>Audiological scientist</td>\n",
       "      <td>58</td>\n",
       "    </tr>\n",
       "    <tr>\n",
       "      <th>4</th>\n",
       "      <td>Senior tax professional/tax inspector</td>\n",
       "      <td>57</td>\n",
       "    </tr>\n",
       "    <tr>\n",
       "      <th>...</th>\n",
       "      <td>...</td>\n",
       "      <td>...</td>\n",
       "    </tr>\n",
       "    <tr>\n",
       "      <th>489</th>\n",
       "      <td>Professor Emeritus</td>\n",
       "      <td>4</td>\n",
       "    </tr>\n",
       "    <tr>\n",
       "      <th>490</th>\n",
       "      <td>Corporate investment banker</td>\n",
       "      <td>4</td>\n",
       "    </tr>\n",
       "    <tr>\n",
       "      <th>491</th>\n",
       "      <td>Statistician</td>\n",
       "      <td>3</td>\n",
       "    </tr>\n",
       "    <tr>\n",
       "      <th>492</th>\n",
       "      <td>Health physicist</td>\n",
       "      <td>3</td>\n",
       "    </tr>\n",
       "    <tr>\n",
       "      <th>493</th>\n",
       "      <td>Contractor</td>\n",
       "      <td>2</td>\n",
       "    </tr>\n",
       "  </tbody>\n",
       "</table>\n",
       "<p>494 rows × 2 columns</p>\n",
       "</div>"
      ],
      "text/plain": [
       "                                       job  count\n",
       "0                        Quantity surveyor     69\n",
       "1                          Naval architect     66\n",
       "2                       Materials engineer     62\n",
       "3                   Audiological scientist     58\n",
       "4    Senior tax professional/tax inspector     57\n",
       "..                                     ...    ...\n",
       "489                     Professor Emeritus      4\n",
       "490            Corporate investment banker      4\n",
       "491                           Statistician      3\n",
       "492                       Health physicist      3\n",
       "493                             Contractor      2\n",
       "\n",
       "[494 rows x 2 columns]"
      ]
     },
     "execution_count": 41,
     "metadata": {},
     "output_type": "execute_result"
    }
   ],
   "source": [
    "job = temp[['job']]\n",
    "job = job['job'].value_counts()\n",
    "job = job.to_frame()\n",
    "job.index.name = 'newhead'\n",
    "job.reset_index(inplace=True)\n",
    "\n",
    "job.rename(columns = {'newhead': 'job', 'job': 'count'}, inplace=True)\n",
    "job"
   ]
  },
  {
   "cell_type": "code",
   "execution_count": 42,
   "metadata": {},
   "outputs": [
    {
     "data": {
      "text/plain": [
       "<matplotlib.axes._subplots.AxesSubplot at 0x209fb7e49d0>"
      ]
     },
     "execution_count": 42,
     "metadata": {},
     "output_type": "execute_result"
    },
    {
     "data": {
      "image/png": "[encoded data removed]",
      "text/plain": [
       "<Figure size 432x288 with 1 Axes>"
      ]
     },
     "metadata": {
      "needs_background": "light"
     },
     "output_type": "display_data"
    }
   ],
   "source": [
    "sns.barplot(x='job', y='count', data = job)"
   ]
  },
  {
   "cell_type": "code",
   "execution_count": 43,
   "metadata": {},
   "outputs": [
    {
     "data": {
      "text/html": [
       "<div>\n",
       "<style scoped>\n",
       "    .dataframe tbody tr th:only-of-type {\n",
       "        vertical-align: middle;\n",
       "    }\n",
       "\n",
       "    .dataframe tbody tr th {\n",
       "        vertical-align: top;\n",
       "    }\n",
       "\n",
       "    .dataframe thead th {\n",
       "        text-align: right;\n",
       "    }\n",
       "</style>\n",
       "<table border=\"1\" class=\"dataframe\">\n",
       "  <thead>\n",
       "    <tr style=\"text-align: right;\">\n",
       "      <th></th>\n",
       "      <th>job</th>\n",
       "      <th>count</th>\n",
       "    </tr>\n",
       "  </thead>\n",
       "  <tbody>\n",
       "    <tr>\n",
       "      <th>0</th>\n",
       "      <td>Film/video editor</td>\n",
       "      <td>13846</td>\n",
       "    </tr>\n",
       "    <tr>\n",
       "      <th>1</th>\n",
       "      <td>Exhibition designer</td>\n",
       "      <td>13116</td>\n",
       "    </tr>\n",
       "    <tr>\n",
       "      <th>2</th>\n",
       "      <td>Surveyor, land/geomatics</td>\n",
       "      <td>12386</td>\n",
       "    </tr>\n",
       "    <tr>\n",
       "      <th>3</th>\n",
       "      <td>Naval architect</td>\n",
       "      <td>12368</td>\n",
       "    </tr>\n",
       "    <tr>\n",
       "      <th>4</th>\n",
       "      <td>Designer, ceramics/pottery</td>\n",
       "      <td>11665</td>\n",
       "    </tr>\n",
       "    <tr>\n",
       "      <th>...</th>\n",
       "      <td>...</td>\n",
       "      <td>...</td>\n",
       "    </tr>\n",
       "    <tr>\n",
       "      <th>470</th>\n",
       "      <td>Copy</td>\n",
       "      <td>726</td>\n",
       "    </tr>\n",
       "    <tr>\n",
       "      <th>471</th>\n",
       "      <td>Clinical cytogeneticist</td>\n",
       "      <td>726</td>\n",
       "    </tr>\n",
       "    <tr>\n",
       "      <th>472</th>\n",
       "      <td>Merchandiser, retail</td>\n",
       "      <td>726</td>\n",
       "    </tr>\n",
       "    <tr>\n",
       "      <th>473</th>\n",
       "      <td>Engineer, civil (consulting)</td>\n",
       "      <td>725</td>\n",
       "    </tr>\n",
       "    <tr>\n",
       "      <th>474</th>\n",
       "      <td>Engineer, materials</td>\n",
       "      <td>724</td>\n",
       "    </tr>\n",
       "  </tbody>\n",
       "</table>\n",
       "<p>475 rows × 2 columns</p>\n",
       "</div>"
      ],
      "text/plain": [
       "                              job  count\n",
       "0               Film/video editor  13846\n",
       "1             Exhibition designer  13116\n",
       "2        Surveyor, land/geomatics  12386\n",
       "3                 Naval architect  12368\n",
       "4      Designer, ceramics/pottery  11665\n",
       "..                            ...    ...\n",
       "470                          Copy    726\n",
       "471       Clinical cytogeneticist    726\n",
       "472          Merchandiser, retail    726\n",
       "473  Engineer, civil (consulting)    725\n",
       "474           Engineer, materials    724\n",
       "\n",
       "[475 rows x 2 columns]"
      ]
     },
     "execution_count": 43,
     "metadata": {},
     "output_type": "execute_result"
    }
   ],
   "source": [
    "job = no_fraud[['job']]\n",
    "job = job['job'].value_counts()\n",
    "job = job.to_frame()\n",
    "job.index.name = 'newhead'\n",
    "job.reset_index(inplace=True)\n",
    "\n",
    "job.rename(columns = {'newhead': 'job', 'job': 'count'}, inplace=True)\n",
    "job"
   ]
  },
  {
   "cell_type": "code",
   "execution_count": 44,
   "metadata": {},
   "outputs": [
    {
     "data": {
      "text/plain": [
       "<matplotlib.axes._subplots.AxesSubplot at 0x209fc6df520>"
      ]
     },
     "execution_count": 44,
     "metadata": {},
     "output_type": "execute_result"
    },
    {
     "data": {
      "image/png": "[encoded data removed]",
      "text/plain": [
       "<Figure size 432x288 with 1 Axes>"
      ]
     },
     "metadata": {
      "needs_background": "light"
     },
     "output_type": "display_data"
    }
   ],
   "source": [
    "sns.barplot(x='job', y='count', data = job)"
   ]
  },
  {
   "cell_type": "markdown",
   "metadata": {},
   "source": [
    "The charts comparing jobs between fraudulent and non fraudulent cases are extremely similar. It is likely the fraudulent purchases are not linked to the job but we will include this variable since the jobs do differ between groups in terms of count ranking between groups."
   ]
  },
  {
   "cell_type": "code",
   "execution_count": 45,
   "metadata": {},
   "outputs": [
    {
     "data": {
      "text/html": [
       "<div>\n",
       "<style scoped>\n",
       "    .dataframe tbody tr th:only-of-type {\n",
       "        vertical-align: middle;\n",
       "    }\n",
       "\n",
       "    .dataframe tbody tr th {\n",
       "        vertical-align: top;\n",
       "    }\n",
       "\n",
       "    .dataframe thead th {\n",
       "        text-align: right;\n",
       "    }\n",
       "</style>\n",
       "<table border=\"1\" class=\"dataframe\">\n",
       "  <thead>\n",
       "    <tr style=\"text-align: right;\">\n",
       "      <th></th>\n",
       "      <th>merch_lat</th>\n",
       "      <th>count</th>\n",
       "    </tr>\n",
       "  </thead>\n",
       "  <tbody>\n",
       "    <tr>\n",
       "      <th>0</th>\n",
       "      <td>33.029036</td>\n",
       "      <td>2</td>\n",
       "    </tr>\n",
       "    <tr>\n",
       "      <th>1</th>\n",
       "      <td>40.411281</td>\n",
       "      <td>2</td>\n",
       "    </tr>\n",
       "    <tr>\n",
       "      <th>2</th>\n",
       "      <td>45.163374</td>\n",
       "      <td>1</td>\n",
       "    </tr>\n",
       "    <tr>\n",
       "      <th>3</th>\n",
       "      <td>27.953876</td>\n",
       "      <td>1</td>\n",
       "    </tr>\n",
       "    <tr>\n",
       "      <th>4</th>\n",
       "      <td>39.018254</td>\n",
       "      <td>1</td>\n",
       "    </tr>\n",
       "  </tbody>\n",
       "</table>\n",
       "</div>"
      ],
      "text/plain": [
       "   merch_lat  count\n",
       "0  33.029036      2\n",
       "1  40.411281      2\n",
       "2  45.163374      1\n",
       "3  27.953876      1\n",
       "4  39.018254      1"
      ]
     },
     "execution_count": 45,
     "metadata": {},
     "output_type": "execute_result"
    }
   ],
   "source": [
    "merch_lat = temp[['merch_lat']]\n",
    "merch_lat = merch_lat['merch_lat'].value_counts()\n",
    "merch_lat = merch_lat.to_frame()\n",
    "merch_lat.index.name = 'newhead'\n",
    "merch_lat.reset_index(inplace=True)\n",
    "\n",
    "merch_lat.rename(columns = {'newhead': 'merch_lat', 'merch_lat': 'count'}, inplace=True)\n",
    "merch_lat.head()"
   ]
  },
  {
   "cell_type": "code",
   "execution_count": 46,
   "metadata": {},
   "outputs": [
    {
     "data": {
      "text/plain": [
       "<matplotlib.axes._subplots.AxesSubplot at 0x209fef5e8e0>"
      ]
     },
     "execution_count": 46,
     "metadata": {},
     "output_type": "execute_result"
    },
    {
     "data": {
      "image/png": "[encoded data removed]",
      "text/plain": [
       "<Figure size 432x288 with 1 Axes>"
      ]
     },
     "metadata": {
      "needs_background": "light"
     },
     "output_type": "display_data"
    }
   ],
   "source": [
    "sns.barplot(x='merch_lat', y='count', data = merch_lat)"
   ]
  },
  {
   "cell_type": "code",
   "execution_count": 47,
   "metadata": {},
   "outputs": [
    {
     "data": {
      "text/html": [
       "<div>\n",
       "<style scoped>\n",
       "    .dataframe tbody tr th:only-of-type {\n",
       "        vertical-align: middle;\n",
       "    }\n",
       "\n",
       "    .dataframe tbody tr th {\n",
       "        vertical-align: top;\n",
       "    }\n",
       "\n",
       "    .dataframe thead th {\n",
       "        text-align: right;\n",
       "    }\n",
       "</style>\n",
       "<table border=\"1\" class=\"dataframe\">\n",
       "  <thead>\n",
       "    <tr style=\"text-align: right;\">\n",
       "      <th></th>\n",
       "      <th>merch_lat</th>\n",
       "      <th>count</th>\n",
       "    </tr>\n",
       "  </thead>\n",
       "  <tbody>\n",
       "    <tr>\n",
       "      <th>0</th>\n",
       "      <td>39.377257</td>\n",
       "      <td>4</td>\n",
       "    </tr>\n",
       "    <tr>\n",
       "      <th>1</th>\n",
       "      <td>41.271468</td>\n",
       "      <td>4</td>\n",
       "    </tr>\n",
       "    <tr>\n",
       "      <th>2</th>\n",
       "      <td>41.568128</td>\n",
       "      <td>4</td>\n",
       "    </tr>\n",
       "    <tr>\n",
       "      <th>3</th>\n",
       "      <td>41.910192</td>\n",
       "      <td>4</td>\n",
       "    </tr>\n",
       "    <tr>\n",
       "      <th>4</th>\n",
       "      <td>40.644916</td>\n",
       "      <td>4</td>\n",
       "    </tr>\n",
       "    <tr>\n",
       "      <th>5</th>\n",
       "      <td>40.833238</td>\n",
       "      <td>4</td>\n",
       "    </tr>\n",
       "    <tr>\n",
       "      <th>6</th>\n",
       "      <td>38.050673</td>\n",
       "      <td>4</td>\n",
       "    </tr>\n",
       "    <tr>\n",
       "      <th>7</th>\n",
       "      <td>41.218304</td>\n",
       "      <td>4</td>\n",
       "    </tr>\n",
       "    <tr>\n",
       "      <th>8</th>\n",
       "      <td>39.665363</td>\n",
       "      <td>4</td>\n",
       "    </tr>\n",
       "    <tr>\n",
       "      <th>9</th>\n",
       "      <td>39.739366</td>\n",
       "      <td>4</td>\n",
       "    </tr>\n",
       "    <tr>\n",
       "      <th>10</th>\n",
       "      <td>41.212506</td>\n",
       "      <td>4</td>\n",
       "    </tr>\n",
       "    <tr>\n",
       "      <th>11</th>\n",
       "      <td>41.524136</td>\n",
       "      <td>4</td>\n",
       "    </tr>\n",
       "    <tr>\n",
       "      <th>12</th>\n",
       "      <td>41.301611</td>\n",
       "      <td>4</td>\n",
       "    </tr>\n",
       "    <tr>\n",
       "      <th>13</th>\n",
       "      <td>38.974173</td>\n",
       "      <td>4</td>\n",
       "    </tr>\n",
       "    <tr>\n",
       "      <th>14</th>\n",
       "      <td>39.885448</td>\n",
       "      <td>4</td>\n",
       "    </tr>\n",
       "    <tr>\n",
       "      <th>15</th>\n",
       "      <td>43.373076</td>\n",
       "      <td>4</td>\n",
       "    </tr>\n",
       "    <tr>\n",
       "      <th>16</th>\n",
       "      <td>41.937796</td>\n",
       "      <td>4</td>\n",
       "    </tr>\n",
       "    <tr>\n",
       "      <th>17</th>\n",
       "      <td>41.301543</td>\n",
       "      <td>4</td>\n",
       "    </tr>\n",
       "    <tr>\n",
       "      <th>18</th>\n",
       "      <td>40.216635</td>\n",
       "      <td>4</td>\n",
       "    </tr>\n",
       "    <tr>\n",
       "      <th>19</th>\n",
       "      <td>40.277086</td>\n",
       "      <td>4</td>\n",
       "    </tr>\n",
       "    <tr>\n",
       "      <th>20</th>\n",
       "      <td>39.446581</td>\n",
       "      <td>4</td>\n",
       "    </tr>\n",
       "    <tr>\n",
       "      <th>21</th>\n",
       "      <td>43.413946</td>\n",
       "      <td>4</td>\n",
       "    </tr>\n",
       "    <tr>\n",
       "      <th>22</th>\n",
       "      <td>41.238058</td>\n",
       "      <td>4</td>\n",
       "    </tr>\n",
       "    <tr>\n",
       "      <th>23</th>\n",
       "      <td>32.644690</td>\n",
       "      <td>4</td>\n",
       "    </tr>\n",
       "    <tr>\n",
       "      <th>24</th>\n",
       "      <td>41.785897</td>\n",
       "      <td>4</td>\n",
       "    </tr>\n",
       "  </tbody>\n",
       "</table>\n",
       "</div>"
      ],
      "text/plain": [
       "    merch_lat  count\n",
       "0   39.377257      4\n",
       "1   41.271468      4\n",
       "2   41.568128      4\n",
       "3   41.910192      4\n",
       "4   40.644916      4\n",
       "5   40.833238      4\n",
       "6   38.050673      4\n",
       "7   41.218304      4\n",
       "8   39.665363      4\n",
       "9   39.739366      4\n",
       "10  41.212506      4\n",
       "11  41.524136      4\n",
       "12  41.301611      4\n",
       "13  38.974173      4\n",
       "14  39.885448      4\n",
       "15  43.373076      4\n",
       "16  41.937796      4\n",
       "17  41.301543      4\n",
       "18  40.216635      4\n",
       "19  40.277086      4\n",
       "20  39.446581      4\n",
       "21  43.413946      4\n",
       "22  41.238058      4\n",
       "23  32.644690      4\n",
       "24  41.785897      4"
      ]
     },
     "execution_count": 47,
     "metadata": {},
     "output_type": "execute_result"
    }
   ],
   "source": [
    "merch_lat_no_fraud = no_fraud[['merch_lat']]\n",
    "merch_lat_no_fraud = merch_lat_no_fraud['merch_lat'].value_counts()\n",
    "merch_lat_no_fraud = merch_lat_no_fraud.to_frame()\n",
    "merch_lat_no_fraud.index.name = 'newhead'\n",
    "merch_lat_no_fraud.reset_index(inplace=True)\n",
    "\n",
    "merch_lat_no_fraud.rename(columns = {'newhead': 'merch_lat', 'merch_lat': 'count'}, inplace=True)\n",
    "merch_lat_no_fraud.head(25)"
   ]
  },
  {
   "cell_type": "code",
   "execution_count": 48,
   "metadata": {},
   "outputs": [
    {
     "data": {
      "text/html": [
       "<div>\n",
       "<style scoped>\n",
       "    .dataframe tbody tr th:only-of-type {\n",
       "        vertical-align: middle;\n",
       "    }\n",
       "\n",
       "    .dataframe tbody tr th {\n",
       "        vertical-align: top;\n",
       "    }\n",
       "\n",
       "    .dataframe thead th {\n",
       "        text-align: right;\n",
       "    }\n",
       "</style>\n",
       "<table border=\"1\" class=\"dataframe\">\n",
       "  <thead>\n",
       "    <tr style=\"text-align: right;\">\n",
       "      <th></th>\n",
       "      <th>merch_lat</th>\n",
       "      <th>count_x</th>\n",
       "      <th>count_y</th>\n",
       "    </tr>\n",
       "  </thead>\n",
       "  <tbody>\n",
       "    <tr>\n",
       "      <th>0</th>\n",
       "      <td>40.411281</td>\n",
       "      <td>2</td>\n",
       "      <td>1</td>\n",
       "    </tr>\n",
       "    <tr>\n",
       "      <th>1</th>\n",
       "      <td>39.018254</td>\n",
       "      <td>1</td>\n",
       "      <td>1</td>\n",
       "    </tr>\n",
       "    <tr>\n",
       "      <th>2</th>\n",
       "      <td>40.353338</td>\n",
       "      <td>1</td>\n",
       "      <td>1</td>\n",
       "    </tr>\n",
       "    <tr>\n",
       "      <th>3</th>\n",
       "      <td>46.531927</td>\n",
       "      <td>1</td>\n",
       "      <td>1</td>\n",
       "    </tr>\n",
       "    <tr>\n",
       "      <th>4</th>\n",
       "      <td>27.584448</td>\n",
       "      <td>1</td>\n",
       "      <td>1</td>\n",
       "    </tr>\n",
       "    <tr>\n",
       "      <th>...</th>\n",
       "      <td>...</td>\n",
       "      <td>...</td>\n",
       "      <td>...</td>\n",
       "    </tr>\n",
       "    <tr>\n",
       "      <th>973</th>\n",
       "      <td>33.648778</td>\n",
       "      <td>1</td>\n",
       "      <td>1</td>\n",
       "    </tr>\n",
       "    <tr>\n",
       "      <th>974</th>\n",
       "      <td>39.004103</td>\n",
       "      <td>1</td>\n",
       "      <td>2</td>\n",
       "    </tr>\n",
       "    <tr>\n",
       "      <th>975</th>\n",
       "      <td>39.591354</td>\n",
       "      <td>1</td>\n",
       "      <td>1</td>\n",
       "    </tr>\n",
       "    <tr>\n",
       "      <th>976</th>\n",
       "      <td>39.872061</td>\n",
       "      <td>1</td>\n",
       "      <td>1</td>\n",
       "    </tr>\n",
       "    <tr>\n",
       "      <th>977</th>\n",
       "      <td>31.110229</td>\n",
       "      <td>1</td>\n",
       "      <td>2</td>\n",
       "    </tr>\n",
       "  </tbody>\n",
       "</table>\n",
       "<p>978 rows × 3 columns</p>\n",
       "</div>"
      ],
      "text/plain": [
       "     merch_lat  count_x  count_y\n",
       "0    40.411281        2        1\n",
       "1    39.018254        1        1\n",
       "2    40.353338        1        1\n",
       "3    46.531927        1        1\n",
       "4    27.584448        1        1\n",
       "..         ...      ...      ...\n",
       "973  33.648778        1        1\n",
       "974  39.004103        1        2\n",
       "975  39.591354        1        1\n",
       "976  39.872061        1        1\n",
       "977  31.110229        1        2\n",
       "\n",
       "[978 rows x 3 columns]"
      ]
     },
     "execution_count": 48,
     "metadata": {},
     "output_type": "execute_result"
    }
   ],
   "source": [
    "mergelat = merch_lat\n",
    "same_val = mergelat.merge(merch_lat_no_fraud, on='merch_lat', how='inner')\n",
    "same_val"
   ]
  },
  {
   "cell_type": "markdown",
   "metadata": {},
   "source": [
    "There are 978 latitudes which match that of cases of non fraud. Considering these are merchants with physical locations, it is unlikely the remaining locations are solely used for fraud so we will drop merch_long and merch_lat for the additional fact that there is not much variation in purchase counts between merchants. Furthermore we already have merchant name information, so including this variable could put more weight on the merchant information than necessary, so we will not include this variable"
   ]
  },
  {
   "cell_type": "code",
   "execution_count": 49,
   "metadata": {},
   "outputs": [
    {
     "data": {
      "text/html": [
       "<div>\n",
       "<style scoped>\n",
       "    .dataframe tbody tr th:only-of-type {\n",
       "        vertical-align: middle;\n",
       "    }\n",
       "\n",
       "    .dataframe tbody tr th {\n",
       "        vertical-align: top;\n",
       "    }\n",
       "\n",
       "    .dataframe thead th {\n",
       "        text-align: right;\n",
       "    }\n",
       "</style>\n",
       "<table border=\"1\" class=\"dataframe\">\n",
       "  <thead>\n",
       "    <tr style=\"text-align: right;\">\n",
       "      <th></th>\n",
       "      <th>merch_long</th>\n",
       "      <th>count</th>\n",
       "    </tr>\n",
       "  </thead>\n",
       "  <tbody>\n",
       "    <tr>\n",
       "      <th>0</th>\n",
       "      <td>-76.926858</td>\n",
       "      <td>2</td>\n",
       "    </tr>\n",
       "    <tr>\n",
       "      <th>1</th>\n",
       "      <td>-82.976778</td>\n",
       "      <td>2</td>\n",
       "    </tr>\n",
       "    <tr>\n",
       "      <th>2</th>\n",
       "      <td>-88.951239</td>\n",
       "      <td>1</td>\n",
       "    </tr>\n",
       "    <tr>\n",
       "      <th>3</th>\n",
       "      <td>-83.614457</td>\n",
       "      <td>1</td>\n",
       "    </tr>\n",
       "    <tr>\n",
       "      <th>4</th>\n",
       "      <td>-76.322416</td>\n",
       "      <td>1</td>\n",
       "    </tr>\n",
       "  </tbody>\n",
       "</table>\n",
       "</div>"
      ],
      "text/plain": [
       "   merch_long  count\n",
       "0  -76.926858      2\n",
       "1  -82.976778      2\n",
       "2  -88.951239      1\n",
       "3  -83.614457      1\n",
       "4  -76.322416      1"
      ]
     },
     "execution_count": 49,
     "metadata": {},
     "output_type": "execute_result"
    }
   ],
   "source": [
    "merch_long = temp[['merch_long']]\n",
    "merch_long = merch_long['merch_long'].value_counts()\n",
    "merch_long = merch_long.to_frame()\n",
    "merch_long.index.name = 'newhead'\n",
    "merch_long.reset_index(inplace=True)\n",
    "\n",
    "merch_long.rename(columns = {'newhead': 'merch_long', 'merch_long': 'count'}, inplace=True)\n",
    "merch_long.head()"
   ]
  },
  {
   "cell_type": "code",
   "execution_count": 50,
   "metadata": {},
   "outputs": [
    {
     "data": {
      "text/html": [
       "<div>\n",
       "<style scoped>\n",
       "    .dataframe tbody tr th:only-of-type {\n",
       "        vertical-align: middle;\n",
       "    }\n",
       "\n",
       "    .dataframe tbody tr th {\n",
       "        vertical-align: top;\n",
       "    }\n",
       "\n",
       "    .dataframe thead th {\n",
       "        text-align: right;\n",
       "    }\n",
       "</style>\n",
       "<table border=\"1\" class=\"dataframe\">\n",
       "  <thead>\n",
       "    <tr style=\"text-align: right;\">\n",
       "      <th></th>\n",
       "      <th>merch_long</th>\n",
       "      <th>count</th>\n",
       "    </tr>\n",
       "  </thead>\n",
       "  <tbody>\n",
       "    <tr>\n",
       "      <th>0</th>\n",
       "      <td>-81.219189</td>\n",
       "      <td>4</td>\n",
       "    </tr>\n",
       "    <tr>\n",
       "      <th>1</th>\n",
       "      <td>-79.147111</td>\n",
       "      <td>4</td>\n",
       "    </tr>\n",
       "    <tr>\n",
       "      <th>2</th>\n",
       "      <td>-80.940524</td>\n",
       "      <td>4</td>\n",
       "    </tr>\n",
       "    <tr>\n",
       "      <th>3</th>\n",
       "      <td>-73.900295</td>\n",
       "      <td>4</td>\n",
       "    </tr>\n",
       "    <tr>\n",
       "      <th>4</th>\n",
       "      <td>-74.618269</td>\n",
       "      <td>4</td>\n",
       "    </tr>\n",
       "  </tbody>\n",
       "</table>\n",
       "</div>"
      ],
      "text/plain": [
       "   merch_long  count\n",
       "0  -81.219189      4\n",
       "1  -79.147111      4\n",
       "2  -80.940524      4\n",
       "3  -73.900295      4\n",
       "4  -74.618269      4"
      ]
     },
     "execution_count": 50,
     "metadata": {},
     "output_type": "execute_result"
    }
   ],
   "source": [
    "merch_long = no_fraud[['merch_long']]\n",
    "merch_long = merch_long['merch_long'].value_counts()\n",
    "merch_long = merch_long.to_frame()\n",
    "merch_long.index.name = 'newhead'\n",
    "merch_long.reset_index(inplace=True)\n",
    "\n",
    "merch_long.rename(columns = {'newhead': 'merch_long', 'merch_long': 'count'}, inplace=True)\n",
    "merch_long.head()\n"
   ]
  },
  {
   "cell_type": "markdown",
   "metadata": {},
   "source": [
    "There is extremely little variation in merch latitude so we will omit merch latitude"
   ]
  },
  {
   "cell_type": "markdown",
   "metadata": {},
   "source": [
    "### Variable Selection for Model\n",
    "\n",
    "Based on our data analysis, the variables we will use are name, state, cc_num, amt,unix_time,category,merchant,city,job and zip. We will drop the other columns"
   ]
  },
  {
   "cell_type": "code",
   "execution_count": 51,
   "metadata": {},
   "outputs": [
    {
     "data": {
      "text/plain": [
       "cc_num          int64\n",
       "merchant       object\n",
       "category       object\n",
       "amt           float64\n",
       "gender         object\n",
       "city           object\n",
       "state          object\n",
       "zip            object\n",
       "lat            object\n",
       "long           object\n",
       "city_pop        int64\n",
       "job            object\n",
       "unix_time       int64\n",
       "merch_lat      object\n",
       "merch_long     object\n",
       "is_fraud       object\n",
       "name           object\n",
       "dtype: object"
      ]
     },
     "execution_count": 51,
     "metadata": {},
     "output_type": "execute_result"
    }
   ],
   "source": [
    "df.dtypes"
   ]
  },
  {
   "cell_type": "code",
   "execution_count": 52,
   "metadata": {},
   "outputs": [],
   "source": [
    "drop_list = ['gender',  'lat', 'long', 'city_pop', 'merch_lat', 'merch_long']\n",
    "new_df = df\n",
    "new_df.drop(drop_list, axis=1, inplace=True)"
   ]
  },
  {
   "cell_type": "code",
   "execution_count": 53,
   "metadata": {},
   "outputs": [
    {
     "data": {
      "text/html": [
       "<div>\n",
       "<style scoped>\n",
       "    .dataframe tbody tr th:only-of-type {\n",
       "        vertical-align: middle;\n",
       "    }\n",
       "\n",
       "    .dataframe tbody tr th {\n",
       "        vertical-align: top;\n",
       "    }\n",
       "\n",
       "    .dataframe thead th {\n",
       "        text-align: right;\n",
       "    }\n",
       "</style>\n",
       "<table border=\"1\" class=\"dataframe\">\n",
       "  <thead>\n",
       "    <tr style=\"text-align: right;\">\n",
       "      <th></th>\n",
       "      <th>cc_num</th>\n",
       "      <th>merchant</th>\n",
       "      <th>category</th>\n",
       "      <th>amt</th>\n",
       "      <th>city</th>\n",
       "      <th>state</th>\n",
       "      <th>zip</th>\n",
       "      <th>job</th>\n",
       "      <th>unix_time</th>\n",
       "      <th>is_fraud</th>\n",
       "      <th>name</th>\n",
       "    </tr>\n",
       "  </thead>\n",
       "  <tbody>\n",
       "    <tr>\n",
       "      <th>0</th>\n",
       "      <td>2703186189652095</td>\n",
       "      <td>fraud_Rippin, Kub and Mann</td>\n",
       "      <td>misc_net</td>\n",
       "      <td>4.97</td>\n",
       "      <td>Moravian Falls</td>\n",
       "      <td>NC</td>\n",
       "      <td>28654</td>\n",
       "      <td>Psychologist, counselling</td>\n",
       "      <td>1325376018</td>\n",
       "      <td>0</td>\n",
       "      <td>JenniferBanks</td>\n",
       "    </tr>\n",
       "    <tr>\n",
       "      <th>1</th>\n",
       "      <td>630423337322</td>\n",
       "      <td>fraud_Heller, Gutmann and Zieme</td>\n",
       "      <td>grocery_pos</td>\n",
       "      <td>107.23</td>\n",
       "      <td>Orient</td>\n",
       "      <td>WA</td>\n",
       "      <td>99160</td>\n",
       "      <td>Special educational needs teacher</td>\n",
       "      <td>1325376044</td>\n",
       "      <td>0</td>\n",
       "      <td>StephanieGill</td>\n",
       "    </tr>\n",
       "    <tr>\n",
       "      <th>2</th>\n",
       "      <td>38859492057661</td>\n",
       "      <td>fraud_Lind-Buckridge</td>\n",
       "      <td>entertainment</td>\n",
       "      <td>220.11</td>\n",
       "      <td>Malad City</td>\n",
       "      <td>ID</td>\n",
       "      <td>83252</td>\n",
       "      <td>Nature conservation officer</td>\n",
       "      <td>1325376051</td>\n",
       "      <td>0</td>\n",
       "      <td>EdwardSanchez</td>\n",
       "    </tr>\n",
       "    <tr>\n",
       "      <th>3</th>\n",
       "      <td>3534093764340240</td>\n",
       "      <td>fraud_Kutch, Hermiston and Farrell</td>\n",
       "      <td>gas_transport</td>\n",
       "      <td>45.00</td>\n",
       "      <td>Boulder</td>\n",
       "      <td>MT</td>\n",
       "      <td>59632</td>\n",
       "      <td>Patent attorney</td>\n",
       "      <td>1325376076</td>\n",
       "      <td>0</td>\n",
       "      <td>JeremyWhite</td>\n",
       "    </tr>\n",
       "    <tr>\n",
       "      <th>4</th>\n",
       "      <td>375534208663984</td>\n",
       "      <td>fraud_Keeling-Crist</td>\n",
       "      <td>misc_pos</td>\n",
       "      <td>41.96</td>\n",
       "      <td>Doe Hill</td>\n",
       "      <td>VA</td>\n",
       "      <td>24433</td>\n",
       "      <td>Dance movement psychotherapist</td>\n",
       "      <td>1325376186</td>\n",
       "      <td>0</td>\n",
       "      <td>TylerGarcia</td>\n",
       "    </tr>\n",
       "  </tbody>\n",
       "</table>\n",
       "</div>"
      ],
      "text/plain": [
       "             cc_num                            merchant       category  \\\n",
       "0  2703186189652095          fraud_Rippin, Kub and Mann       misc_net   \n",
       "1      630423337322     fraud_Heller, Gutmann and Zieme    grocery_pos   \n",
       "2    38859492057661                fraud_Lind-Buckridge  entertainment   \n",
       "3  3534093764340240  fraud_Kutch, Hermiston and Farrell  gas_transport   \n",
       "4   375534208663984                 fraud_Keeling-Crist       misc_pos   \n",
       "\n",
       "      amt            city state    zip                                job  \\\n",
       "0    4.97  Moravian Falls    NC  28654          Psychologist, counselling   \n",
       "1  107.23          Orient    WA  99160  Special educational needs teacher   \n",
       "2  220.11      Malad City    ID  83252        Nature conservation officer   \n",
       "3   45.00         Boulder    MT  59632                    Patent attorney   \n",
       "4   41.96        Doe Hill    VA  24433     Dance movement psychotherapist   \n",
       "\n",
       "    unix_time is_fraud           name  \n",
       "0  1325376018        0  JenniferBanks  \n",
       "1  1325376044        0  StephanieGill  \n",
       "2  1325376051        0  EdwardSanchez  \n",
       "3  1325376076        0    JeremyWhite  \n",
       "4  1325376186        0    TylerGarcia  "
      ]
     },
     "execution_count": 53,
     "metadata": {},
     "output_type": "execute_result"
    }
   ],
   "source": [
    "new_df.head()"
   ]
  },
  {
   "cell_type": "markdown",
   "metadata": {},
   "source": [
    "Now we must convert our categorical values into numbers since they must be able to be used in our model. To do this, we use the factorize method in pandas to convert categorical columns in numerical columns"
   ]
  },
  {
   "cell_type": "code",
   "execution_count": 54,
   "metadata": {},
   "outputs": [],
   "source": [
    "name = new_df['name']\n",
    "codes_name, uniques_name = pd.factorize(name)\n",
    "new_df['name'] = codes_name"
   ]
  },
  {
   "cell_type": "code",
   "execution_count": 55,
   "metadata": {},
   "outputs": [],
   "source": [
    "state = new_df['state']\n",
    "codes_state, uniques_state = pd.factorize(state)\n",
    "new_df['state'] = codes_state"
   ]
  },
  {
   "cell_type": "code",
   "execution_count": 56,
   "metadata": {},
   "outputs": [],
   "source": [
    "merchant = new_df['merchant']\n",
    "codes_merchant, uniques_merchant = pd.factorize(merchant)\n",
    "new_df['merchant'] = codes_merchant"
   ]
  },
  {
   "cell_type": "code",
   "execution_count": 57,
   "metadata": {},
   "outputs": [],
   "source": [
    "job = new_df['job']\n",
    "codes_job, uniques_job = pd.factorize(job)\n",
    "new_df['job'] = codes_job"
   ]
  },
  {
   "cell_type": "code",
   "execution_count": 58,
   "metadata": {},
   "outputs": [],
   "source": [
    "category = new_df['category']\n",
    "codes_category, uniques_category = pd.factorize(category)\n",
    "new_df['category'] = codes_category"
   ]
  },
  {
   "cell_type": "code",
   "execution_count": 59,
   "metadata": {},
   "outputs": [],
   "source": [
    "city = new_df['city']\n",
    "codes_city, uniques_city = pd.factorize(city)\n",
    "new_df['city'] = codes_city"
   ]
  },
  {
   "cell_type": "markdown",
   "metadata": {},
   "source": [
    "Now we get our y vector. This vector contains the labels for every row in our dataset. The dependent variable in our model is the 'is_fraud' column. We will use this column as our y vector and convert it to integer values "
   ]
  },
  {
   "cell_type": "code",
   "execution_count": 60,
   "metadata": {},
   "outputs": [
    {
     "data": {
      "text/plain": [
       "0    0\n",
       "1    0\n",
       "2    0\n",
       "3    0\n",
       "4    0\n",
       "Name: is_fraud, dtype: int32"
      ]
     },
     "execution_count": 60,
     "metadata": {},
     "output_type": "execute_result"
    }
   ],
   "source": [
    "y = new_df['is_fraud']\n",
    "y = y.astype(int)\n",
    "y.head()"
   ]
  },
  {
   "cell_type": "markdown",
   "metadata": {},
   "source": [
    "We can now drop the is_fraud column from our matrix and label it as X"
   ]
  },
  {
   "cell_type": "code",
   "execution_count": 61,
   "metadata": {},
   "outputs": [],
   "source": [
    "X = new_df.drop('is_fraud', axis=1)"
   ]
  },
  {
   "cell_type": "markdown",
   "metadata": {},
   "source": [
    "We should also convert the zipcode columm to integer to be used in our model"
   ]
  },
  {
   "cell_type": "code",
   "execution_count": 62,
   "metadata": {},
   "outputs": [],
   "source": [
    "zipcol = new_df['zip']\n",
    "zipcol = zipcol.astype(int)\n",
    "X['zip'] = zipcol"
   ]
  },
  {
   "cell_type": "markdown",
   "metadata": {},
   "source": [
    "Let's have a look at the data"
   ]
  },
  {
   "cell_type": "code",
   "execution_count": 63,
   "metadata": {},
   "outputs": [
    {
     "data": {
      "text/html": [
       "<div>\n",
       "<style scoped>\n",
       "    .dataframe tbody tr th:only-of-type {\n",
       "        vertical-align: middle;\n",
       "    }\n",
       "\n",
       "    .dataframe tbody tr th {\n",
       "        vertical-align: top;\n",
       "    }\n",
       "\n",
       "    .dataframe thead th {\n",
       "        text-align: right;\n",
       "    }\n",
       "</style>\n",
       "<table border=\"1\" class=\"dataframe\">\n",
       "  <thead>\n",
       "    <tr style=\"text-align: right;\">\n",
       "      <th></th>\n",
       "      <th>cc_num</th>\n",
       "      <th>merchant</th>\n",
       "      <th>category</th>\n",
       "      <th>amt</th>\n",
       "      <th>city</th>\n",
       "      <th>state</th>\n",
       "      <th>zip</th>\n",
       "      <th>job</th>\n",
       "      <th>unix_time</th>\n",
       "      <th>name</th>\n",
       "    </tr>\n",
       "  </thead>\n",
       "  <tbody>\n",
       "    <tr>\n",
       "      <th>0</th>\n",
       "      <td>2703186189652095</td>\n",
       "      <td>0</td>\n",
       "      <td>0</td>\n",
       "      <td>4.97</td>\n",
       "      <td>0</td>\n",
       "      <td>0</td>\n",
       "      <td>28654</td>\n",
       "      <td>0</td>\n",
       "      <td>1325376018</td>\n",
       "      <td>0</td>\n",
       "    </tr>\n",
       "    <tr>\n",
       "      <th>1</th>\n",
       "      <td>630423337322</td>\n",
       "      <td>1</td>\n",
       "      <td>1</td>\n",
       "      <td>107.23</td>\n",
       "      <td>1</td>\n",
       "      <td>1</td>\n",
       "      <td>99160</td>\n",
       "      <td>1</td>\n",
       "      <td>1325376044</td>\n",
       "      <td>1</td>\n",
       "    </tr>\n",
       "    <tr>\n",
       "      <th>2</th>\n",
       "      <td>38859492057661</td>\n",
       "      <td>2</td>\n",
       "      <td>2</td>\n",
       "      <td>220.11</td>\n",
       "      <td>2</td>\n",
       "      <td>2</td>\n",
       "      <td>83252</td>\n",
       "      <td>2</td>\n",
       "      <td>1325376051</td>\n",
       "      <td>2</td>\n",
       "    </tr>\n",
       "    <tr>\n",
       "      <th>3</th>\n",
       "      <td>3534093764340240</td>\n",
       "      <td>3</td>\n",
       "      <td>3</td>\n",
       "      <td>45.00</td>\n",
       "      <td>3</td>\n",
       "      <td>3</td>\n",
       "      <td>59632</td>\n",
       "      <td>3</td>\n",
       "      <td>1325376076</td>\n",
       "      <td>3</td>\n",
       "    </tr>\n",
       "    <tr>\n",
       "      <th>4</th>\n",
       "      <td>375534208663984</td>\n",
       "      <td>4</td>\n",
       "      <td>4</td>\n",
       "      <td>41.96</td>\n",
       "      <td>4</td>\n",
       "      <td>4</td>\n",
       "      <td>24433</td>\n",
       "      <td>4</td>\n",
       "      <td>1325376186</td>\n",
       "      <td>4</td>\n",
       "    </tr>\n",
       "  </tbody>\n",
       "</table>\n",
       "</div>"
      ],
      "text/plain": [
       "             cc_num  merchant  category     amt  city  state    zip  job  \\\n",
       "0  2703186189652095         0         0    4.97     0      0  28654    0   \n",
       "1      630423337322         1         1  107.23     1      1  99160    1   \n",
       "2    38859492057661         2         2  220.11     2      2  83252    2   \n",
       "3  3534093764340240         3         3   45.00     3      3  59632    3   \n",
       "4   375534208663984         4         4   41.96     4      4  24433    4   \n",
       "\n",
       "    unix_time  name  \n",
       "0  1325376018     0  \n",
       "1  1325376044     1  \n",
       "2  1325376051     2  \n",
       "3  1325376076     3  \n",
       "4  1325376186     4  "
      ]
     },
     "execution_count": 63,
     "metadata": {},
     "output_type": "execute_result"
    }
   ],
   "source": [
    "X.head()"
   ]
  },
  {
   "cell_type": "markdown",
   "metadata": {},
   "source": [
    "First let's split the data into train and test data. We will then balance the training data so that there is not bias in prediction towards non fraud cases, but we will leave the test data as is so that it imitates real life. Afterwards we will preprocess our data so that all the values are normalized. We do this because values like zipcodes have very high values which when left unnormalized, can result in heavier weight in zipcode over other variables."
   ]
  },
  {
   "cell_type": "code",
   "execution_count": 64,
   "metadata": {},
   "outputs": [],
   "source": [
    "from sklearn import preprocessing\n",
    "from sklearn.model_selection import train_test_split"
   ]
  },
  {
   "cell_type": "code",
   "execution_count": 65,
   "metadata": {},
   "outputs": [],
   "source": [
    "X_train, X_test, y_train, y_test = train_test_split(X, y, test_size=0.1, random_state=4)"
   ]
  },
  {
   "cell_type": "code",
   "execution_count": 66,
   "metadata": {},
   "outputs": [
    {
     "data": {
      "text/html": [
       "<div>\n",
       "<style scoped>\n",
       "    .dataframe tbody tr th:only-of-type {\n",
       "        vertical-align: middle;\n",
       "    }\n",
       "\n",
       "    .dataframe tbody tr th {\n",
       "        vertical-align: top;\n",
       "    }\n",
       "\n",
       "    .dataframe thead th {\n",
       "        text-align: right;\n",
       "    }\n",
       "</style>\n",
       "<table border=\"1\" class=\"dataframe\">\n",
       "  <thead>\n",
       "    <tr style=\"text-align: right;\">\n",
       "      <th></th>\n",
       "      <th>cc_num</th>\n",
       "      <th>merchant</th>\n",
       "      <th>category</th>\n",
       "      <th>amt</th>\n",
       "      <th>city</th>\n",
       "      <th>state</th>\n",
       "      <th>zip</th>\n",
       "      <th>job</th>\n",
       "      <th>unix_time</th>\n",
       "      <th>name</th>\n",
       "    </tr>\n",
       "  </thead>\n",
       "  <tbody>\n",
       "    <tr>\n",
       "      <th>26326</th>\n",
       "      <td>371683116218417</td>\n",
       "      <td>255</td>\n",
       "      <td>6</td>\n",
       "      <td>22.24</td>\n",
       "      <td>694</td>\n",
       "      <td>13</td>\n",
       "      <td>8830</td>\n",
       "      <td>439</td>\n",
       "      <td>1372554485</td>\n",
       "      <td>742</td>\n",
       "    </tr>\n",
       "    <tr>\n",
       "      <th>241930</th>\n",
       "      <td>3506042666828517</td>\n",
       "      <td>598</td>\n",
       "      <td>11</td>\n",
       "      <td>9.97</td>\n",
       "      <td>244</td>\n",
       "      <td>9</td>\n",
       "      <td>25049</td>\n",
       "      <td>37</td>\n",
       "      <td>1379355477</td>\n",
       "      <td>244</td>\n",
       "    </tr>\n",
       "    <tr>\n",
       "      <th>530531</th>\n",
       "      <td>36153880429415</td>\n",
       "      <td>632</td>\n",
       "      <td>10</td>\n",
       "      <td>7.74</td>\n",
       "      <td>383</td>\n",
       "      <td>10</td>\n",
       "      <td>33809</td>\n",
       "      <td>296</td>\n",
       "      <td>1388083974</td>\n",
       "      <td>395</td>\n",
       "    </tr>\n",
       "    <tr>\n",
       "      <th>1101659</th>\n",
       "      <td>345060451158891</td>\n",
       "      <td>538</td>\n",
       "      <td>2</td>\n",
       "      <td>359.27</td>\n",
       "      <td>261</td>\n",
       "      <td>16</td>\n",
       "      <td>1330</td>\n",
       "      <td>212</td>\n",
       "      <td>1364992741</td>\n",
       "      <td>263</td>\n",
       "    </tr>\n",
       "    <tr>\n",
       "      <th>424363</th>\n",
       "      <td>4464457352619</td>\n",
       "      <td>46</td>\n",
       "      <td>6</td>\n",
       "      <td>2.92</td>\n",
       "      <td>301</td>\n",
       "      <td>10</td>\n",
       "      <td>32323</td>\n",
       "      <td>121</td>\n",
       "      <td>1386004899</td>\n",
       "      <td>305</td>\n",
       "    </tr>\n",
       "  </tbody>\n",
       "</table>\n",
       "</div>"
      ],
      "text/plain": [
       "                   cc_num  merchant  category     amt  city  state    zip  \\\n",
       "26326     371683116218417       255         6   22.24   694     13   8830   \n",
       "241930   3506042666828517       598        11    9.97   244      9  25049   \n",
       "530531     36153880429415       632        10    7.74   383     10  33809   \n",
       "1101659   345060451158891       538         2  359.27   261     16   1330   \n",
       "424363      4464457352619        46         6    2.92   301     10  32323   \n",
       "\n",
       "         job   unix_time  name  \n",
       "26326    439  1372554485   742  \n",
       "241930    37  1379355477   244  \n",
       "530531   296  1388083974   395  \n",
       "1101659  212  1364992741   263  \n",
       "424363   121  1386004899   305  "
      ]
     },
     "execution_count": 66,
     "metadata": {},
     "output_type": "execute_result"
    }
   ],
   "source": [
    "type(X_train)\n",
    "type(y_train)\n",
    "X_train.head()"
   ]
  },
  {
   "cell_type": "code",
   "execution_count": 67,
   "metadata": {},
   "outputs": [
    {
     "name": "stderr",
     "output_type": "stream",
     "text": [
      "<ipython-input-67-b77f02c2d850>:1: SettingWithCopyWarning: \n",
      "A value is trying to be set on a copy of a slice from a DataFrame.\n",
      "Try using .loc[row_indexer,col_indexer] = value instead\n",
      "\n",
      "See the caveats in the documentation: https://pandas.pydata.org/pandas-docs/stable/user_guide/indexing.html#returning-a-view-versus-a-copy\n",
      "  X_train['is_fraud'] = y_train\n"
     ]
    }
   ],
   "source": [
    "X_train['is_fraud'] = y_train"
   ]
  },
  {
   "cell_type": "code",
   "execution_count": 68,
   "metadata": {},
   "outputs": [],
   "source": [
    "df_fraud = X_train[X_train.is_fraud==1]\n",
    "df_not_fraud = X_train[X_train.is_fraud==0]\n",
    "df_not_fraud_resample = df_not_fraud.sample(replace=False, n=df_fraud.shape[0], random_state=2)\n",
    "df = pd.concat([df_not_fraud_resample, df_fraud])"
   ]
  },
  {
   "cell_type": "code",
   "execution_count": 69,
   "metadata": {},
   "outputs": [
    {
     "data": {
      "text/html": [
       "<div>\n",
       "<style scoped>\n",
       "    .dataframe tbody tr th:only-of-type {\n",
       "        vertical-align: middle;\n",
       "    }\n",
       "\n",
       "    .dataframe tbody tr th {\n",
       "        vertical-align: top;\n",
       "    }\n",
       "\n",
       "    .dataframe thead th {\n",
       "        text-align: right;\n",
       "    }\n",
       "</style>\n",
       "<table border=\"1\" class=\"dataframe\">\n",
       "  <thead>\n",
       "    <tr style=\"text-align: right;\">\n",
       "      <th></th>\n",
       "      <th>cc_num</th>\n",
       "      <th>merchant</th>\n",
       "      <th>category</th>\n",
       "      <th>amt</th>\n",
       "      <th>city</th>\n",
       "      <th>state</th>\n",
       "      <th>zip</th>\n",
       "      <th>job</th>\n",
       "      <th>unix_time</th>\n",
       "      <th>name</th>\n",
       "      <th>is_fraud</th>\n",
       "    </tr>\n",
       "  </thead>\n",
       "  <tbody>\n",
       "    <tr>\n",
       "      <th>26326</th>\n",
       "      <td>371683116218417</td>\n",
       "      <td>255</td>\n",
       "      <td>6</td>\n",
       "      <td>22.24</td>\n",
       "      <td>694</td>\n",
       "      <td>13</td>\n",
       "      <td>8830</td>\n",
       "      <td>439</td>\n",
       "      <td>1372554485</td>\n",
       "      <td>742</td>\n",
       "      <td>0</td>\n",
       "    </tr>\n",
       "    <tr>\n",
       "      <th>241930</th>\n",
       "      <td>3506042666828517</td>\n",
       "      <td>598</td>\n",
       "      <td>11</td>\n",
       "      <td>9.97</td>\n",
       "      <td>244</td>\n",
       "      <td>9</td>\n",
       "      <td>25049</td>\n",
       "      <td>37</td>\n",
       "      <td>1379355477</td>\n",
       "      <td>244</td>\n",
       "      <td>0</td>\n",
       "    </tr>\n",
       "    <tr>\n",
       "      <th>530531</th>\n",
       "      <td>36153880429415</td>\n",
       "      <td>632</td>\n",
       "      <td>10</td>\n",
       "      <td>7.74</td>\n",
       "      <td>383</td>\n",
       "      <td>10</td>\n",
       "      <td>33809</td>\n",
       "      <td>296</td>\n",
       "      <td>1388083974</td>\n",
       "      <td>395</td>\n",
       "      <td>0</td>\n",
       "    </tr>\n",
       "    <tr>\n",
       "      <th>1101659</th>\n",
       "      <td>345060451158891</td>\n",
       "      <td>538</td>\n",
       "      <td>2</td>\n",
       "      <td>359.27</td>\n",
       "      <td>261</td>\n",
       "      <td>16</td>\n",
       "      <td>1330</td>\n",
       "      <td>212</td>\n",
       "      <td>1364992741</td>\n",
       "      <td>263</td>\n",
       "      <td>0</td>\n",
       "    </tr>\n",
       "    <tr>\n",
       "      <th>424363</th>\n",
       "      <td>4464457352619</td>\n",
       "      <td>46</td>\n",
       "      <td>6</td>\n",
       "      <td>2.92</td>\n",
       "      <td>301</td>\n",
       "      <td>10</td>\n",
       "      <td>32323</td>\n",
       "      <td>121</td>\n",
       "      <td>1386004899</td>\n",
       "      <td>305</td>\n",
       "      <td>0</td>\n",
       "    </tr>\n",
       "  </tbody>\n",
       "</table>\n",
       "</div>"
      ],
      "text/plain": [
       "                   cc_num  merchant  category     amt  city  state    zip  \\\n",
       "26326     371683116218417       255         6   22.24   694     13   8830   \n",
       "241930   3506042666828517       598        11    9.97   244      9  25049   \n",
       "530531     36153880429415       632        10    7.74   383     10  33809   \n",
       "1101659   345060451158891       538         2  359.27   261     16   1330   \n",
       "424363      4464457352619        46         6    2.92   301     10  32323   \n",
       "\n",
       "         job   unix_time  name  is_fraud  \n",
       "26326    439  1372554485   742         0  \n",
       "241930    37  1379355477   244         0  \n",
       "530531   296  1388083974   395         0  \n",
       "1101659  212  1364992741   263         0  \n",
       "424363   121  1386004899   305         0  "
      ]
     },
     "execution_count": 69,
     "metadata": {},
     "output_type": "execute_result"
    }
   ],
   "source": [
    "X_train.head()"
   ]
  },
  {
   "cell_type": "code",
   "execution_count": 70,
   "metadata": {},
   "outputs": [],
   "source": [
    "y_train = X_train['is_fraud']\n",
    "del X_train['is_fraud']"
   ]
  },
  {
   "cell_type": "markdown",
   "metadata": {},
   "source": [
    "Here we preprocess the train and test data"
   ]
  },
  {
   "cell_type": "code",
   "execution_count": 71,
   "metadata": {},
   "outputs": [
    {
     "data": {
      "text/plain": [
       "array([[-0.31858775, -0.38548349, -0.12845464, -0.30004444,  1.41866558,\n",
       "        -0.68443808, -1.48740068,  1.89139056,  0.76308799,  1.36404384],\n",
       "       [-0.31619391,  1.35566634,  1.08981301, -0.37704022, -0.56091658,\n",
       "        -0.99260034, -0.88398563, -1.28248484,  1.13685826, -0.66113645],\n",
       "       [-0.31884401,  1.52825845,  0.84615948, -0.39103375,  0.05055435,\n",
       "        -0.91555977, -0.55807678,  0.76237518,  1.61656073, -0.04707576],\n",
       "       [-0.31860809,  1.05109202, -1.10306876,  1.8148608 , -0.48613237,\n",
       "        -0.45331638, -1.76643223,  0.09917734,  0.34750816, -0.58387053],\n",
       "       [-0.31886821, -1.44641736, -0.12845464, -0.42127985, -0.31016951,\n",
       "        -0.91555977, -0.61336223, -0.619287  ,  1.50229852, -0.4130722 ]])"
      ]
     },
     "execution_count": 71,
     "metadata": {},
     "output_type": "execute_result"
    }
   ],
   "source": [
    "X_train = preprocessing.StandardScaler().fit(X_train).transform(X_train.astype(float))\n",
    "X_test = preprocessing.StandardScaler().fit(X_test).transform(X_test.astype(float))\n",
    "X_train[0:5]"
   ]
  },
  {
   "cell_type": "markdown",
   "metadata": {},
   "source": [
    "We have an additional dataset which can be used as a test dataset, so we will import that and use that dataset to test our models. We also must perform the same steps we did to the training dataset so we have the same variables in each dataset."
   ]
  },
  {
   "cell_type": "markdown",
   "metadata": {},
   "source": [
    "# Model Selection and Evaluation\n",
    "\n",
    "Our problem is a classification problem. We must choose between KNN, SVM, Decision Trees or Logistic Regression for our model. We can try each model and test the results, then we can select the model which yields the highest accuracy."
   ]
  },
  {
   "cell_type": "markdown",
   "metadata": {},
   "source": [
    "## Decision Trees"
   ]
  },
  {
   "cell_type": "code",
   "execution_count": 72,
   "metadata": {},
   "outputs": [],
   "source": [
    "from sklearn.tree import DecisionTreeClassifier\n",
    "from sklearn.metrics import classification_report"
   ]
  },
  {
   "cell_type": "code",
   "execution_count": 73,
   "metadata": {},
   "outputs": [
    {
     "name": "stderr",
     "output_type": "stream",
     "text": [
      "C:\\ProgramData\\Anaconda3\\lib\\site-packages\\sklearn\\metrics\\_classification.py:1221: UndefinedMetricWarning: Precision and F-score are ill-defined and being set to 0.0 in labels with no predicted samples. Use `zero_division` parameter to control this behavior.\n",
      "  _warn_prf(average, modifier, msg_start, len(result))\n"
     ]
    },
    {
     "name": "stdout",
     "output_type": "stream",
     "text": [
      "              precision    recall  f1-score   support\n",
      "\n",
      "           0       0.99      1.00      1.00    184305\n",
      "           1       0.00      0.00      0.00       935\n",
      "\n",
      "    accuracy                           0.99    185240\n",
      "   macro avg       0.50      0.50      0.50    185240\n",
      "weighted avg       0.99      0.99      0.99    185240\n",
      "\n",
      "              precision    recall  f1-score   support\n",
      "\n",
      "           0       1.00      1.00      1.00    184305\n",
      "           1       1.00      0.02      0.03       935\n",
      "\n",
      "    accuracy                           1.00    185240\n",
      "   macro avg       1.00      0.51      0.51    185240\n",
      "weighted avg       1.00      1.00      0.99    185240\n",
      "\n",
      "              precision    recall  f1-score   support\n",
      "\n",
      "           0       1.00      1.00      1.00    184305\n",
      "           1       1.00      0.02      0.03       935\n",
      "\n",
      "    accuracy                           1.00    185240\n",
      "   macro avg       1.00      0.51      0.51    185240\n",
      "weighted avg       1.00      1.00      0.99    185240\n",
      "\n",
      "              precision    recall  f1-score   support\n",
      "\n",
      "           0       1.00      1.00      1.00    184305\n",
      "           1       0.54      0.31      0.39       935\n",
      "\n",
      "    accuracy                           1.00    185240\n",
      "   macro avg       0.77      0.65      0.69    185240\n",
      "weighted avg       0.99      1.00      0.99    185240\n",
      "\n",
      "              precision    recall  f1-score   support\n",
      "\n",
      "           0       1.00      1.00      1.00    184305\n",
      "           1       0.65      0.58      0.61       935\n",
      "\n",
      "    accuracy                           1.00    185240\n",
      "   macro avg       0.82      0.79      0.80    185240\n",
      "weighted avg       1.00      1.00      1.00    185240\n",
      "\n",
      "              precision    recall  f1-score   support\n",
      "\n",
      "           0       1.00      1.00      1.00    184305\n",
      "           1       0.73      0.52      0.61       935\n",
      "\n",
      "    accuracy                           1.00    185240\n",
      "   macro avg       0.86      0.76      0.80    185240\n",
      "weighted avg       1.00      1.00      1.00    185240\n",
      "\n",
      "              precision    recall  f1-score   support\n",
      "\n",
      "           0       1.00      1.00      1.00    184305\n",
      "           1       0.77      0.61      0.68       935\n",
      "\n",
      "    accuracy                           1.00    185240\n",
      "   macro avg       0.88      0.80      0.84    185240\n",
      "weighted avg       1.00      1.00      1.00    185240\n",
      "\n",
      "              precision    recall  f1-score   support\n",
      "\n",
      "           0       1.00      1.00      1.00    184305\n",
      "           1       0.78      0.61      0.68       935\n",
      "\n",
      "    accuracy                           1.00    185240\n",
      "   macro avg       0.89      0.80      0.84    185240\n",
      "weighted avg       1.00      1.00      1.00    185240\n",
      "\n",
      "              precision    recall  f1-score   support\n",
      "\n",
      "           0       1.00      1.00      1.00    184305\n",
      "           1       0.80      0.65      0.72       935\n",
      "\n",
      "    accuracy                           1.00    185240\n",
      "   macro avg       0.90      0.83      0.86    185240\n",
      "weighted avg       1.00      1.00      1.00    185240\n",
      "\n",
      "              precision    recall  f1-score   support\n",
      "\n",
      "           0       1.00      1.00      1.00    184305\n",
      "           1       0.79      0.65      0.71       935\n",
      "\n",
      "    accuracy                           1.00    185240\n",
      "   macro avg       0.89      0.83      0.86    185240\n",
      "weighted avg       1.00      1.00      1.00    185240\n",
      "\n"
     ]
    }
   ],
   "source": [
    "from IPython.core.interactiveshell import InteractiveShell\n",
    "InteractiveShell.ast_node_interactivity = \"all\"\n",
    "for i in range(1,11):\n",
    "    fraudTree = DecisionTreeClassifier(criterion=\"entropy\", max_depth = i)\n",
    "    fraudTree.fit(X_train,y_train)\n",
    "    prediction = fraudTree.predict(X_test)\n",
    "    print (classification_report(y_test, prediction))"
   ]
  },
  {
   "cell_type": "code",
   "execution_count": 74,
   "metadata": {},
   "outputs": [
    {
     "data": {
      "text/plain": [
       "DecisionTreeClassifier(criterion='entropy', max_depth=50)"
      ]
     },
     "execution_count": 74,
     "metadata": {},
     "output_type": "execute_result"
    },
    {
     "name": "stdout",
     "output_type": "stream",
     "text": [
      "              precision    recall  f1-score   support\n",
      "\n",
      "           0       1.00      1.00      1.00    184305\n",
      "           1       0.64      0.66      0.65       935\n",
      "\n",
      "    accuracy                           1.00    185240\n",
      "   macro avg       0.82      0.83      0.83    185240\n",
      "weighted avg       1.00      1.00      1.00    185240\n",
      "\n"
     ]
    }
   ],
   "source": [
    "fraudTree = DecisionTreeClassifier(criterion=\"entropy\", max_depth = 50)\n",
    "fraudTree.fit(X_train,y_train)\n",
    "prediction = fraudTree.predict(X_test)\n",
    "print (classification_report(y_test, prediction))"
   ]
  },
  {
   "cell_type": "code",
   "execution_count": 75,
   "metadata": {},
   "outputs": [
    {
     "data": {
      "text/plain": [
       "DecisionTreeClassifier(criterion='entropy', max_depth=100)"
      ]
     },
     "execution_count": 75,
     "metadata": {},
     "output_type": "execute_result"
    },
    {
     "name": "stdout",
     "output_type": "stream",
     "text": [
      "              precision    recall  f1-score   support\n",
      "\n",
      "           0       1.00      1.00      1.00    184305\n",
      "           1       0.64      0.66      0.65       935\n",
      "\n",
      "    accuracy                           1.00    185240\n",
      "   macro avg       0.82      0.83      0.82    185240\n",
      "weighted avg       1.00      1.00      1.00    185240\n",
      "\n"
     ]
    }
   ],
   "source": [
    "fraudTree = DecisionTreeClassifier(criterion=\"entropy\", max_depth = 100)\n",
    "fraudTree.fit(X_train,y_train)\n",
    "prediction = fraudTree.predict(X_test)\n",
    "print (classification_report(y_test, prediction))"
   ]
  },
  {
   "cell_type": "code",
   "execution_count": 76,
   "metadata": {},
   "outputs": [
    {
     "data": {
      "text/plain": [
       "DecisionTreeClassifier(criterion='entropy', max_depth=9)"
      ]
     },
     "execution_count": 76,
     "metadata": {},
     "output_type": "execute_result"
    },
    {
     "name": "stdout",
     "output_type": "stream",
     "text": [
      "              precision    recall  f1-score   support\n",
      "\n",
      "           0       1.00      1.00      1.00    184305\n",
      "           1       0.80      0.65      0.72       935\n",
      "\n",
      "    accuracy                           1.00    185240\n",
      "   macro avg       0.90      0.83      0.86    185240\n",
      "weighted avg       1.00      1.00      1.00    185240\n",
      "\n"
     ]
    }
   ],
   "source": [
    "fraudTree = DecisionTreeClassifier(criterion=\"entropy\", max_depth = 9)\n",
    "fraudTree.fit(X_train,y_train)\n",
    "prediction = fraudTree.predict(X_test)\n",
    "print (classification_report(y_test, prediction))"
   ]
  },
  {
   "cell_type": "markdown",
   "metadata": {},
   "source": [
    "Our results show that we were able to obtain 0.80 for precision and 0.65 for recall in fraudulent cases. This means that when we predict a fraudulent case, we are correct 80% of the time. The recall score tells us that we were able to successfully predict 65% of all fraudulent cases."
   ]
  },
  {
   "cell_type": "markdown",
   "metadata": {},
   "source": [
    "## K Nearest Neighbours"
   ]
  },
  {
   "cell_type": "markdown",
   "metadata": {},
   "source": [
    "We will be creating the K Nearest Neighbours model now. We will be testing models with k values equal to 1 up to k values equal to 10."
   ]
  },
  {
   "cell_type": "code",
   "execution_count": 77,
   "metadata": {},
   "outputs": [],
   "source": [
    "from sklearn.neighbors import KNeighborsClassifier"
   ]
  },
  {
   "cell_type": "code",
   "execution_count": 78,
   "metadata": {},
   "outputs": [
    {
     "name": "stdout",
     "output_type": "stream",
     "text": [
      "KNN results for K value: 1\n",
      "              precision    recall  f1-score   support\n",
      "\n",
      "           0       1.00      1.00      1.00    184305\n",
      "           1       0.54      0.55      0.55       935\n",
      "\n",
      "    accuracy                           1.00    185240\n",
      "   macro avg       0.77      0.77      0.77    185240\n",
      "weighted avg       1.00      1.00      1.00    185240\n",
      "\n",
      "KNN results for K value: 2\n",
      "              precision    recall  f1-score   support\n",
      "\n",
      "           0       1.00      1.00      1.00    184305\n",
      "           1       0.70      0.35      0.46       935\n",
      "\n",
      "    accuracy                           1.00    185240\n",
      "   macro avg       0.85      0.67      0.73    185240\n",
      "weighted avg       1.00      1.00      1.00    185240\n",
      "\n",
      "KNN results for K value: 3\n",
      "              precision    recall  f1-score   support\n",
      "\n",
      "           0       1.00      1.00      1.00    184305\n",
      "           1       0.62      0.46      0.53       935\n",
      "\n",
      "    accuracy                           1.00    185240\n",
      "   macro avg       0.81      0.73      0.76    185240\n",
      "weighted avg       1.00      1.00      1.00    185240\n",
      "\n",
      "KNN results for K value: 4\n",
      "              precision    recall  f1-score   support\n",
      "\n",
      "           0       1.00      1.00      1.00    184305\n",
      "           1       0.69      0.34      0.45       935\n",
      "\n",
      "    accuracy                           1.00    185240\n",
      "   macro avg       0.84      0.67      0.73    185240\n",
      "weighted avg       1.00      1.00      1.00    185240\n",
      "\n",
      "KNN results for K value: 5\n",
      "              precision    recall  f1-score   support\n",
      "\n",
      "           0       1.00      1.00      1.00    184305\n",
      "           1       0.63      0.39      0.48       935\n",
      "\n",
      "    accuracy                           1.00    185240\n",
      "   macro avg       0.81      0.70      0.74    185240\n",
      "weighted avg       1.00      1.00      1.00    185240\n",
      "\n",
      "KNN results for K value: 6\n",
      "              precision    recall  f1-score   support\n",
      "\n",
      "           0       1.00      1.00      1.00    184305\n",
      "           1       0.68      0.31      0.43       935\n",
      "\n",
      "    accuracy                           1.00    185240\n",
      "   macro avg       0.84      0.66      0.71    185240\n",
      "weighted avg       0.99      1.00      1.00    185240\n",
      "\n",
      "KNN results for K value: 7\n",
      "              precision    recall  f1-score   support\n",
      "\n",
      "           0       1.00      1.00      1.00    184305\n",
      "           1       0.65      0.38      0.48       935\n",
      "\n",
      "    accuracy                           1.00    185240\n",
      "   macro avg       0.82      0.69      0.74    185240\n",
      "weighted avg       1.00      1.00      1.00    185240\n",
      "\n",
      "KNN results for K value: 8\n",
      "              precision    recall  f1-score   support\n",
      "\n",
      "           0       1.00      1.00      1.00    184305\n",
      "           1       0.67      0.31      0.43       935\n",
      "\n",
      "    accuracy                           1.00    185240\n",
      "   macro avg       0.83      0.66      0.71    185240\n",
      "weighted avg       0.99      1.00      0.99    185240\n",
      "\n",
      "KNN results for K value: 9\n",
      "              precision    recall  f1-score   support\n",
      "\n",
      "           0       1.00      1.00      1.00    184305\n",
      "           1       0.64      0.36      0.46       935\n",
      "\n",
      "    accuracy                           1.00    185240\n",
      "   macro avg       0.82      0.68      0.73    185240\n",
      "weighted avg       0.99      1.00      1.00    185240\n",
      "\n",
      "KNN results for K value: 10\n",
      "              precision    recall  f1-score   support\n",
      "\n",
      "           0       1.00      1.00      1.00    184305\n",
      "           1       0.66      0.30      0.41       935\n",
      "\n",
      "    accuracy                           1.00    185240\n",
      "   macro avg       0.83      0.65      0.70    185240\n",
      "weighted avg       0.99      1.00      0.99    185240\n",
      "\n"
     ]
    }
   ],
   "source": [
    "from IPython.core.interactiveshell import InteractiveShell\n",
    "InteractiveShell.ast_node_interactivity = \"all\"\n",
    "k = 11\n",
    "means = []\n",
    "for i in range(1,k):\n",
    "    knn = KNeighborsClassifier(n_neighbors = i).fit(X_train, y_train)\n",
    "    knn_prediction = knn.predict(X_test)\n",
    "    print('KNN results for K value: '+str(i))\n",
    "    print(classification_report(y_test, knn_prediction))\n",
    "    \n",
    "    "
   ]
  },
  {
   "cell_type": "markdown",
   "metadata": {},
   "source": [
    "The highest recall score we were able to obtain in fraudulent cases is 0.55. We were able to get a precision score of 0.54 as well meaning that of all fraudulent cases, we were able to correctly identify 55% of them and we were correct 54% of the time when we labelled a transaction as fraud. This is too low, so we will not use a KNN model."
   ]
  },
  {
   "cell_type": "code",
   "execution_count": 79,
   "metadata": {},
   "outputs": [
    {
     "data": {
      "text/plain": [
       "SVC()"
      ]
     },
     "execution_count": 79,
     "metadata": {},
     "output_type": "execute_result"
    }
   ],
   "source": [
    "from sklearn import svm\n",
    "clf = svm.SVC()\n",
    "clf.fit(X_train, y_train) "
   ]
  },
  {
   "cell_type": "code",
   "execution_count": 80,
   "metadata": {},
   "outputs": [],
   "source": [
    "yhat_clf = clf.predict(X_test)"
   ]
  },
  {
   "cell_type": "code",
   "execution_count": 81,
   "metadata": {},
   "outputs": [
    {
     "name": "stdout",
     "output_type": "stream",
     "text": [
      "              precision    recall  f1-score   support\n",
      "\n",
      "           0       1.00      1.00      1.00    184305\n",
      "           1       0.71      0.19      0.31       935\n",
      "\n",
      "    accuracy                           1.00    185240\n",
      "   macro avg       0.85      0.60      0.65    185240\n",
      "weighted avg       0.99      1.00      0.99    185240\n",
      "\n"
     ]
    }
   ],
   "source": [
    "from sklearn.metrics import classification_report\n",
    "print (classification_report(y_test, yhat_clf))"
   ]
  },
  {
   "cell_type": "markdown",
   "metadata": {},
   "source": [
    "The SVM model was able to predict 19% of all fraudulent transactions and was 71% correct when it labelled a transaction as fraud. This means that the SVM model was predicting a low number of fraudulent cases in order to obtain higher accuracy in it's prediction. This is still very weak compared to our decision tree model which was able to predict 65% of all fraudulent transactions while being correct in it's labelling 80% of the time."
   ]
  },
  {
   "cell_type": "code",
   "execution_count": 82,
   "metadata": {},
   "outputs": [
    {
     "name": "stdout",
     "output_type": "stream",
     "text": [
      "              precision    recall  f1-score   support\n",
      "\n",
      "           0       0.99      1.00      1.00    184305\n",
      "           1       0.00      0.00      0.00       935\n",
      "\n",
      "    accuracy                           0.99    185240\n",
      "   macro avg       0.50      0.50      0.50    185240\n",
      "weighted avg       0.99      0.99      0.99    185240\n",
      "\n"
     ]
    }
   ],
   "source": [
    "from sklearn.linear_model import LogisticRegression\n",
    "LR = LogisticRegression(C=0.01).fit(X_train,y_train)\n",
    "yhat = LR.predict(X_test)\n",
    "yhat_prob = LR.predict_proba(X_test)\n",
    "from sklearn.metrics import classification_report\n",
    "print (classification_report(y_test, yhat))"
   ]
  },
  {
   "cell_type": "markdown",
   "metadata": {},
   "source": [
    "The logistic regression model was unable to get any of the fraud transactions correctly labelled, so we will not consider this model."
   ]
  },
  {
   "cell_type": "markdown",
   "metadata": {},
   "source": [
    "The decision tree model was the best model we were able to create since it has the highest precision and recall of all the models we have created. This will be the model which should be chosen to perform fraud detection with the available data."
   ]
  },
  {
   "cell_type": "markdown",
   "metadata": {},
   "source": [
    "# Results\n",
    "\n",
    "Our analysis was able to show us that the relevant variables we should use in our models were cc_num, merchant, category, amt, city, state, zip, job, unix_time, and name. Then we dropped all other variables and factorized the categorical variables so that they can be used in fitting and testing for our models. A range of values were used in our decision tree and knn models for the number of trees and K neighbours respectively. An SVM and Logistic Regresion model was also created for the data but ultimately the decision tree with 10 trees was the most successful model.\n",
    "\n",
    "The decision tree was able to give us a precision score of 0.80 and a recall score of 0.65. The model was able to correctly label 80% of transactions it labelled as fraud, and it was able to correctly identify 65% of all fraud cases. All other models were significantly worse in recall scores and slightly worse in precision scores. This implies that the other cases were able to correctly identify the cases it labelled as fraud, but was not able to label many as fraud in the first place. Our decision tree was the only model which was able to get a decent value for it's recall score."
   ]
  },
  {
   "cell_type": "markdown",
   "metadata": {},
   "source": [
    "# Discussion\n",
    "The importance of recall in our situation is that a bank should be able to correctly identify a high percentage of all fraudulent transactions made. It is not enough for a bank to simply correctly label a small percentage of all fraudulent cases. The risk of not being able to predict a high percentage of all fraudulent transactions is bad for the customer as it does not alleviate the risk that the solution was intented to fix in the first place.\n",
    "\n",
    "It is important to note that a recall score of 0.65 is not nearly reliable enough to implement into a bank model. Thus it is important to gain additional transaction information to strenghthen this model so it will be able to detect a higher percentage of fraudulent transactions. Additional data could include, customer id so that other cards linked to the customer can be used to determine fraud in high risk customers and average spending amount to detect unusual transactions. Additional information would be greatly beneficial as more variables in the model can significantly improve the accuracy of our model thus bringing greater security to customers."
   ]
  },
  {
   "cell_type": "markdown",
   "metadata": {},
   "source": [
    "# Conclusion\n",
    "\n",
    "The purpose of this project was to be able to create a model which would be able to correctly label fraudulent transactions as fraud. Our best model, a decision tree of depth of 9, was able to give us 80% accuracy in it's labelling when it labelled a transaction as fraud, and it was able to correctly identify 65% of all fraudulent transactions. Our model was undoubtably limited by different variables available to us in our dataset, however, it still managed to give decently accurate predicitions. Additional variables in our dataset would have given us an opportunity to add more reliability to our model, hopefully increasing our recall score. This model is helpful to banks as it allows banks to reasonably predict transactions which could be fraudulent, improving their relationship with their customers and instilling a sense of confidence in the bank."
   ]
  }
 ],
 "metadata": {
  "kernelspec": {
   "display_name": "Python 3",
   "language": "python",
   "name": "python3"
  },
  "language_info": {
   "codemirror_mode": {
    "name": "ipython",
    "version": 3
   },
   "file_extension": ".py",
   "mimetype": "text/x-python",
   "name": "python",
   "nbconvert_exporter": "python",
   "pygments_lexer": "ipython3",
   "version": "3.8.3"
  }
 },
 "nbformat": 4,
 "nbformat_minor": 4
}
